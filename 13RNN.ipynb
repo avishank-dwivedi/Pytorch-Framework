{
  "nbformat": 4,
  "nbformat_minor": 0,
  "metadata": {
    "colab": {
      "provenance": [],
      "authorship_tag": "ABX9TyPJgeNJRFm35BZrebM/XM61",
      "include_colab_link": true
    },
    "kernelspec": {
      "name": "python3",
      "display_name": "Python 3"
    },
    "language_info": {
      "name": "python"
    }
  },
  "cells": [
    {
      "cell_type": "markdown",
      "metadata": {
        "id": "view-in-github",
        "colab_type": "text"
      },
      "source": [
        "<a href=\"https://colab.research.google.com/github/avishank-dwivedi/Pytorch-Framework/blob/main/13RNN.ipynb\" target=\"_parent\"><img src=\"https://colab.research.google.com/assets/colab-badge.svg\" alt=\"Open In Colab\"/></a>"
      ]
    },
    {
      "cell_type": "code",
      "execution_count": 1,
      "metadata": {
        "id": "ZdMTHl2I5Mtr"
      },
      "outputs": [],
      "source": [
        "import pandas as pd\n"
      ]
    },
    {
      "cell_type": "code",
      "source": [
        "from google.colab import drive\n",
        "\n",
        "\n",
        "# Mount Drive\n",
        "drive.mount('/content/drive')\n",
        "\n",
        "# Read the file (just adjust the path)\n",
        "df = pd.read_csv('/content/drive/MyDrive/Colab Notebooks/pytorch/100_Unique_QA_Dataset.csv')\n",
        "df.head()"
      ],
      "metadata": {
        "colab": {
          "base_uri": "https://localhost:8080/",
          "height": 223
        },
        "id": "QKN9-Pgh55SK",
        "outputId": "2aa58c8b-81bf-40d7-f6f7-f112aa3ad382"
      },
      "execution_count": 2,
      "outputs": [
        {
          "output_type": "stream",
          "name": "stdout",
          "text": [
            "Mounted at /content/drive\n"
          ]
        },
        {
          "output_type": "execute_result",
          "data": {
            "text/plain": [
              "                                          question      answer\n",
              "0                   What is the capital of France?       Paris\n",
              "1                  What is the capital of Germany?      Berlin\n",
              "2               Who wrote 'To Kill a Mockingbird'?  Harper-Lee\n",
              "3  What is the largest planet in our solar system?     Jupiter\n",
              "4   What is the boiling point of water in Celsius?         100"
            ],
            "text/html": [
              "\n",
              "  <div id=\"df-e411ec2d-9fdd-4cb9-a541-20ad8792f5b7\" class=\"colab-df-container\">\n",
              "    <div>\n",
              "<style scoped>\n",
              "    .dataframe tbody tr th:only-of-type {\n",
              "        vertical-align: middle;\n",
              "    }\n",
              "\n",
              "    .dataframe tbody tr th {\n",
              "        vertical-align: top;\n",
              "    }\n",
              "\n",
              "    .dataframe thead th {\n",
              "        text-align: right;\n",
              "    }\n",
              "</style>\n",
              "<table border=\"1\" class=\"dataframe\">\n",
              "  <thead>\n",
              "    <tr style=\"text-align: right;\">\n",
              "      <th></th>\n",
              "      <th>question</th>\n",
              "      <th>answer</th>\n",
              "    </tr>\n",
              "  </thead>\n",
              "  <tbody>\n",
              "    <tr>\n",
              "      <th>0</th>\n",
              "      <td>What is the capital of France?</td>\n",
              "      <td>Paris</td>\n",
              "    </tr>\n",
              "    <tr>\n",
              "      <th>1</th>\n",
              "      <td>What is the capital of Germany?</td>\n",
              "      <td>Berlin</td>\n",
              "    </tr>\n",
              "    <tr>\n",
              "      <th>2</th>\n",
              "      <td>Who wrote 'To Kill a Mockingbird'?</td>\n",
              "      <td>Harper-Lee</td>\n",
              "    </tr>\n",
              "    <tr>\n",
              "      <th>3</th>\n",
              "      <td>What is the largest planet in our solar system?</td>\n",
              "      <td>Jupiter</td>\n",
              "    </tr>\n",
              "    <tr>\n",
              "      <th>4</th>\n",
              "      <td>What is the boiling point of water in Celsius?</td>\n",
              "      <td>100</td>\n",
              "    </tr>\n",
              "  </tbody>\n",
              "</table>\n",
              "</div>\n",
              "    <div class=\"colab-df-buttons\">\n",
              "\n",
              "  <div class=\"colab-df-container\">\n",
              "    <button class=\"colab-df-convert\" onclick=\"convertToInteractive('df-e411ec2d-9fdd-4cb9-a541-20ad8792f5b7')\"\n",
              "            title=\"Convert this dataframe to an interactive table.\"\n",
              "            style=\"display:none;\">\n",
              "\n",
              "  <svg xmlns=\"http://www.w3.org/2000/svg\" height=\"24px\" viewBox=\"0 -960 960 960\">\n",
              "    <path d=\"M120-120v-720h720v720H120Zm60-500h600v-160H180v160Zm220 220h160v-160H400v160Zm0 220h160v-160H400v160ZM180-400h160v-160H180v160Zm440 0h160v-160H620v160ZM180-180h160v-160H180v160Zm440 0h160v-160H620v160Z\"/>\n",
              "  </svg>\n",
              "    </button>\n",
              "\n",
              "  <style>\n",
              "    .colab-df-container {\n",
              "      display:flex;\n",
              "      gap: 12px;\n",
              "    }\n",
              "\n",
              "    .colab-df-convert {\n",
              "      background-color: #E8F0FE;\n",
              "      border: none;\n",
              "      border-radius: 50%;\n",
              "      cursor: pointer;\n",
              "      display: none;\n",
              "      fill: #1967D2;\n",
              "      height: 32px;\n",
              "      padding: 0 0 0 0;\n",
              "      width: 32px;\n",
              "    }\n",
              "\n",
              "    .colab-df-convert:hover {\n",
              "      background-color: #E2EBFA;\n",
              "      box-shadow: 0px 1px 2px rgba(60, 64, 67, 0.3), 0px 1px 3px 1px rgba(60, 64, 67, 0.15);\n",
              "      fill: #174EA6;\n",
              "    }\n",
              "\n",
              "    .colab-df-buttons div {\n",
              "      margin-bottom: 4px;\n",
              "    }\n",
              "\n",
              "    [theme=dark] .colab-df-convert {\n",
              "      background-color: #3B4455;\n",
              "      fill: #D2E3FC;\n",
              "    }\n",
              "\n",
              "    [theme=dark] .colab-df-convert:hover {\n",
              "      background-color: #434B5C;\n",
              "      box-shadow: 0px 1px 3px 1px rgba(0, 0, 0, 0.15);\n",
              "      filter: drop-shadow(0px 1px 2px rgba(0, 0, 0, 0.3));\n",
              "      fill: #FFFFFF;\n",
              "    }\n",
              "  </style>\n",
              "\n",
              "    <script>\n",
              "      const buttonEl =\n",
              "        document.querySelector('#df-e411ec2d-9fdd-4cb9-a541-20ad8792f5b7 button.colab-df-convert');\n",
              "      buttonEl.style.display =\n",
              "        google.colab.kernel.accessAllowed ? 'block' : 'none';\n",
              "\n",
              "      async function convertToInteractive(key) {\n",
              "        const element = document.querySelector('#df-e411ec2d-9fdd-4cb9-a541-20ad8792f5b7');\n",
              "        const dataTable =\n",
              "          await google.colab.kernel.invokeFunction('convertToInteractive',\n",
              "                                                    [key], {});\n",
              "        if (!dataTable) return;\n",
              "\n",
              "        const docLinkHtml = 'Like what you see? Visit the ' +\n",
              "          '<a target=\"_blank\" href=https://colab.research.google.com/notebooks/data_table.ipynb>data table notebook</a>'\n",
              "          + ' to learn more about interactive tables.';\n",
              "        element.innerHTML = '';\n",
              "        dataTable['output_type'] = 'display_data';\n",
              "        await google.colab.output.renderOutput(dataTable, element);\n",
              "        const docLink = document.createElement('div');\n",
              "        docLink.innerHTML = docLinkHtml;\n",
              "        element.appendChild(docLink);\n",
              "      }\n",
              "    </script>\n",
              "  </div>\n",
              "\n",
              "\n",
              "    <div id=\"df-0b271441-d3bc-4e19-a8f3-f6dc5261f11d\">\n",
              "      <button class=\"colab-df-quickchart\" onclick=\"quickchart('df-0b271441-d3bc-4e19-a8f3-f6dc5261f11d')\"\n",
              "                title=\"Suggest charts\"\n",
              "                style=\"display:none;\">\n",
              "\n",
              "<svg xmlns=\"http://www.w3.org/2000/svg\" height=\"24px\"viewBox=\"0 0 24 24\"\n",
              "     width=\"24px\">\n",
              "    <g>\n",
              "        <path d=\"M19 3H5c-1.1 0-2 .9-2 2v14c0 1.1.9 2 2 2h14c1.1 0 2-.9 2-2V5c0-1.1-.9-2-2-2zM9 17H7v-7h2v7zm4 0h-2V7h2v10zm4 0h-2v-4h2v4z\"/>\n",
              "    </g>\n",
              "</svg>\n",
              "      </button>\n",
              "\n",
              "<style>\n",
              "  .colab-df-quickchart {\n",
              "      --bg-color: #E8F0FE;\n",
              "      --fill-color: #1967D2;\n",
              "      --hover-bg-color: #E2EBFA;\n",
              "      --hover-fill-color: #174EA6;\n",
              "      --disabled-fill-color: #AAA;\n",
              "      --disabled-bg-color: #DDD;\n",
              "  }\n",
              "\n",
              "  [theme=dark] .colab-df-quickchart {\n",
              "      --bg-color: #3B4455;\n",
              "      --fill-color: #D2E3FC;\n",
              "      --hover-bg-color: #434B5C;\n",
              "      --hover-fill-color: #FFFFFF;\n",
              "      --disabled-bg-color: #3B4455;\n",
              "      --disabled-fill-color: #666;\n",
              "  }\n",
              "\n",
              "  .colab-df-quickchart {\n",
              "    background-color: var(--bg-color);\n",
              "    border: none;\n",
              "    border-radius: 50%;\n",
              "    cursor: pointer;\n",
              "    display: none;\n",
              "    fill: var(--fill-color);\n",
              "    height: 32px;\n",
              "    padding: 0;\n",
              "    width: 32px;\n",
              "  }\n",
              "\n",
              "  .colab-df-quickchart:hover {\n",
              "    background-color: var(--hover-bg-color);\n",
              "    box-shadow: 0 1px 2px rgba(60, 64, 67, 0.3), 0 1px 3px 1px rgba(60, 64, 67, 0.15);\n",
              "    fill: var(--button-hover-fill-color);\n",
              "  }\n",
              "\n",
              "  .colab-df-quickchart-complete:disabled,\n",
              "  .colab-df-quickchart-complete:disabled:hover {\n",
              "    background-color: var(--disabled-bg-color);\n",
              "    fill: var(--disabled-fill-color);\n",
              "    box-shadow: none;\n",
              "  }\n",
              "\n",
              "  .colab-df-spinner {\n",
              "    border: 2px solid var(--fill-color);\n",
              "    border-color: transparent;\n",
              "    border-bottom-color: var(--fill-color);\n",
              "    animation:\n",
              "      spin 1s steps(1) infinite;\n",
              "  }\n",
              "\n",
              "  @keyframes spin {\n",
              "    0% {\n",
              "      border-color: transparent;\n",
              "      border-bottom-color: var(--fill-color);\n",
              "      border-left-color: var(--fill-color);\n",
              "    }\n",
              "    20% {\n",
              "      border-color: transparent;\n",
              "      border-left-color: var(--fill-color);\n",
              "      border-top-color: var(--fill-color);\n",
              "    }\n",
              "    30% {\n",
              "      border-color: transparent;\n",
              "      border-left-color: var(--fill-color);\n",
              "      border-top-color: var(--fill-color);\n",
              "      border-right-color: var(--fill-color);\n",
              "    }\n",
              "    40% {\n",
              "      border-color: transparent;\n",
              "      border-right-color: var(--fill-color);\n",
              "      border-top-color: var(--fill-color);\n",
              "    }\n",
              "    60% {\n",
              "      border-color: transparent;\n",
              "      border-right-color: var(--fill-color);\n",
              "    }\n",
              "    80% {\n",
              "      border-color: transparent;\n",
              "      border-right-color: var(--fill-color);\n",
              "      border-bottom-color: var(--fill-color);\n",
              "    }\n",
              "    90% {\n",
              "      border-color: transparent;\n",
              "      border-bottom-color: var(--fill-color);\n",
              "    }\n",
              "  }\n",
              "</style>\n",
              "\n",
              "      <script>\n",
              "        async function quickchart(key) {\n",
              "          const quickchartButtonEl =\n",
              "            document.querySelector('#' + key + ' button');\n",
              "          quickchartButtonEl.disabled = true;  // To prevent multiple clicks.\n",
              "          quickchartButtonEl.classList.add('colab-df-spinner');\n",
              "          try {\n",
              "            const charts = await google.colab.kernel.invokeFunction(\n",
              "                'suggestCharts', [key], {});\n",
              "          } catch (error) {\n",
              "            console.error('Error during call to suggestCharts:', error);\n",
              "          }\n",
              "          quickchartButtonEl.classList.remove('colab-df-spinner');\n",
              "          quickchartButtonEl.classList.add('colab-df-quickchart-complete');\n",
              "        }\n",
              "        (() => {\n",
              "          let quickchartButtonEl =\n",
              "            document.querySelector('#df-0b271441-d3bc-4e19-a8f3-f6dc5261f11d button');\n",
              "          quickchartButtonEl.style.display =\n",
              "            google.colab.kernel.accessAllowed ? 'block' : 'none';\n",
              "        })();\n",
              "      </script>\n",
              "    </div>\n",
              "\n",
              "    </div>\n",
              "  </div>\n"
            ],
            "application/vnd.google.colaboratory.intrinsic+json": {
              "type": "dataframe",
              "variable_name": "df",
              "summary": "{\n  \"name\": \"df\",\n  \"rows\": 90,\n  \"fields\": [\n    {\n      \"column\": \"question\",\n      \"properties\": {\n        \"dtype\": \"string\",\n        \"num_unique_values\": 90,\n        \"samples\": [\n          \"What is the currency of China?\",\n          \"What is the capital of Australia?\",\n          \"Who discovered electricity?\"\n        ],\n        \"semantic_type\": \"\",\n        \"description\": \"\"\n      }\n    },\n    {\n      \"column\": \"answer\",\n      \"properties\": {\n        \"dtype\": \"string\",\n        \"num_unique_values\": 85,\n        \"samples\": [\n          \"ChristopherColumbus\",\n          \"Paris\",\n          \"Christmas\"\n        ],\n        \"semantic_type\": \"\",\n        \"description\": \"\"\n      }\n    }\n  ]\n}"
            }
          },
          "metadata": {},
          "execution_count": 2
        }
      ]
    },
    {
      "cell_type": "code",
      "source": [
        "#tokenizer\n",
        "def tokenizer(text):\n",
        "  test = text.lower()\n",
        "  text = text.replace('?','')\n",
        "  text = text.replace(\"'\" , \"\")\n",
        "  return text.split()"
      ],
      "metadata": {
        "id": "p1N2JFb46MMW"
      },
      "execution_count": 5,
      "outputs": []
    },
    {
      "cell_type": "code",
      "source": [
        "tokenizer('Is the theme optimized for mobile devices?')"
      ],
      "metadata": {
        "colab": {
          "base_uri": "https://localhost:8080/"
        },
        "id": "CWCqGpzB68vO",
        "outputId": "9a1240f5-aa5d-4674-9991-c2bfa8c9ba77"
      },
      "execution_count": 6,
      "outputs": [
        {
          "output_type": "execute_result",
          "data": {
            "text/plain": [
              "['Is', 'the', 'theme', 'optimized', 'for', 'mobile', 'devices']"
            ]
          },
          "metadata": {},
          "execution_count": 6
        }
      ]
    },
    {
      "cell_type": "code",
      "source": [
        "#vocab\n",
        "vocab = {'<UNK>':0}\n",
        "def build_vocab(row):\n",
        "\n",
        "  tokenizer_question = tokenizer(row['question'])\n",
        "  tokenizer_answer = tokenizer(row['answer'])\n",
        "\n",
        "  merged_tokens = tokenizer_question + tokenizer_answer\n",
        "\n",
        "  for token in merged_tokens:\n",
        "    if token not in vocab:\n",
        "      vocab[token] = len(vocab)\n",
        "\n",
        "\n",
        "\n"
      ],
      "metadata": {
        "id": "qo02nqQm6tjT"
      },
      "execution_count": 7,
      "outputs": []
    },
    {
      "cell_type": "code",
      "source": [
        "df.apply(build_vocab , axis = 1)"
      ],
      "metadata": {
        "colab": {
          "base_uri": "https://localhost:8080/",
          "height": 458
        },
        "id": "4F4OY-iYGHUv",
        "outputId": "17648a6c-6267-4f2c-e3ee-1f0f32c354ce"
      },
      "execution_count": 8,
      "outputs": [
        {
          "output_type": "execute_result",
          "data": {
            "text/plain": [
              "0     None\n",
              "1     None\n",
              "2     None\n",
              "3     None\n",
              "4     None\n",
              "      ... \n",
              "85    None\n",
              "86    None\n",
              "87    None\n",
              "88    None\n",
              "89    None\n",
              "Length: 90, dtype: object"
            ],
            "text/html": [
              "<div>\n",
              "<style scoped>\n",
              "    .dataframe tbody tr th:only-of-type {\n",
              "        vertical-align: middle;\n",
              "    }\n",
              "\n",
              "    .dataframe tbody tr th {\n",
              "        vertical-align: top;\n",
              "    }\n",
              "\n",
              "    .dataframe thead th {\n",
              "        text-align: right;\n",
              "    }\n",
              "</style>\n",
              "<table border=\"1\" class=\"dataframe\">\n",
              "  <thead>\n",
              "    <tr style=\"text-align: right;\">\n",
              "      <th></th>\n",
              "      <th>0</th>\n",
              "    </tr>\n",
              "  </thead>\n",
              "  <tbody>\n",
              "    <tr>\n",
              "      <th>0</th>\n",
              "      <td>None</td>\n",
              "    </tr>\n",
              "    <tr>\n",
              "      <th>1</th>\n",
              "      <td>None</td>\n",
              "    </tr>\n",
              "    <tr>\n",
              "      <th>2</th>\n",
              "      <td>None</td>\n",
              "    </tr>\n",
              "    <tr>\n",
              "      <th>3</th>\n",
              "      <td>None</td>\n",
              "    </tr>\n",
              "    <tr>\n",
              "      <th>4</th>\n",
              "      <td>None</td>\n",
              "    </tr>\n",
              "    <tr>\n",
              "      <th>...</th>\n",
              "      <td>...</td>\n",
              "    </tr>\n",
              "    <tr>\n",
              "      <th>85</th>\n",
              "      <td>None</td>\n",
              "    </tr>\n",
              "    <tr>\n",
              "      <th>86</th>\n",
              "      <td>None</td>\n",
              "    </tr>\n",
              "    <tr>\n",
              "      <th>87</th>\n",
              "      <td>None</td>\n",
              "    </tr>\n",
              "    <tr>\n",
              "      <th>88</th>\n",
              "      <td>None</td>\n",
              "    </tr>\n",
              "    <tr>\n",
              "      <th>89</th>\n",
              "      <td>None</td>\n",
              "    </tr>\n",
              "  </tbody>\n",
              "</table>\n",
              "<p>90 rows × 1 columns</p>\n",
              "</div><br><label><b>dtype:</b> object</label>"
            ]
          },
          "metadata": {},
          "execution_count": 8
        }
      ]
    },
    {
      "cell_type": "code",
      "source": [
        "#convert words to numerical indices\n",
        "\n",
        "def text_to_indices(text ,vocab):\n",
        "  indexed_text = []\n",
        "\n",
        "  for token in tokenizer(text):\n",
        "    if token in vocab:\n",
        "      indexed_text.append(vocab[token])\n",
        "    else:\n",
        "      indexed_text.append(vocab['<UNK>'])\n",
        "  return indexed_text\n",
        "\n",
        "\n"
      ],
      "metadata": {
        "id": "NfQXuGrg6v12"
      },
      "execution_count": 9,
      "outputs": []
    },
    {
      "cell_type": "code",
      "source": [
        "text_to_indices(\"Is the theme optimized for mobile devices?\",vocab)"
      ],
      "metadata": {
        "colab": {
          "base_uri": "https://localhost:8080/"
        },
        "id": "zg0JLaoBpJIx",
        "outputId": "cee87f93-1a8e-43ce-a64e-5f80da353663"
      },
      "execution_count": 10,
      "outputs": [
        {
          "output_type": "execute_result",
          "data": {
            "text/plain": [
              "[0, 3, 0, 0, 39, 0, 0]"
            ]
          },
          "metadata": {},
          "execution_count": 10
        }
      ]
    },
    {
      "cell_type": "code",
      "source": [
        "import torch\n",
        "from torch.utils.data import Dataset, DataLoader"
      ],
      "metadata": {
        "id": "wBeVozFTpkR6"
      },
      "execution_count": 11,
      "outputs": []
    },
    {
      "cell_type": "code",
      "source": [
        "class QADataset(Dataset):\n",
        "  def __init__(self , df , vocab):\n",
        "    self.df = df\n",
        "    self.vocab = vocab\n",
        "\n",
        "  def __len__(self):\n",
        "    return self.df.shape[0]\n",
        "\n",
        "  def __getitem__(self , index):\n",
        "    numerical_question = text_to_indices(self.df.iloc[index]['question'] , self.vocab)\n",
        "    numerical_answer = text_to_indices(self.df.iloc[index]['answer'] , self.vocab)\n",
        "\n",
        "    return torch.tensor(numerical_question) , torch.tensor(numerical_answer)\n"
      ],
      "metadata": {
        "id": "l0DovpkfrpxX"
      },
      "execution_count": 12,
      "outputs": []
    },
    {
      "cell_type": "code",
      "source": [
        "dataset = QADataset(df , vocab)"
      ],
      "metadata": {
        "id": "3uN9b3d-u5Uw"
      },
      "execution_count": 13,
      "outputs": []
    },
    {
      "cell_type": "code",
      "source": [
        "dataloader = DataLoader(dataset , batch_size = 1 , shuffle = True )"
      ],
      "metadata": {
        "id": "wGs6taTfujYh"
      },
      "execution_count": 14,
      "outputs": []
    },
    {
      "cell_type": "code",
      "source": [
        "for question , answer in dataloader:\n",
        "  print(question , answer[0])"
      ],
      "metadata": {
        "colab": {
          "base_uri": "https://localhost:8080/"
        },
        "id": "lwnSgqbevGSW",
        "outputId": "1b9838a9-ef18-425a-a241-04315450a21c"
      },
      "execution_count": 24,
      "outputs": [
        {
          "output_type": "stream",
          "name": "stdout",
          "text": [
            "tensor([[ 42, 141,   2, 142,  39, 143]]) tensor([54])\n",
            "tensor([[  1,   2,   3,   4,   5, 115]]) tensor([116])\n",
            "tensor([[ 10,  29, 134, 135]]) tensor([136])\n",
            "tensor([[1, 2, 3, 4, 5, 8]]) tensor([9])\n",
            "tensor([[ 10,  98,   3, 106, 244]]) tensor([245])\n",
            "tensor([[10, 29,  3, 30, 31]]) tensor([32])\n",
            "tensor([[  1,   2,   3, 185, 186, 187, 188]]) tensor([189])\n",
            "tensor([[  1,   2,   3, 217,   5,  14, 218, 219]]) tensor([220])\n",
            "tensor([[ 42, 172,   2,   3,  17, 173, 174]]) tensor([175])\n",
            "tensor([[ 10,  77,   3, 302,  19, 303]]) tensor([304])\n",
            "tensor([[ 42, 103,   2,   3,  17]]) tensor([104])\n",
            "tensor([[  1,   2,   3, 105,   5, 106,  19, 107]]) tensor([108])\n",
            "tensor([[ 10,   2,  63,  64,   3, 289,   5, 290]]) tensor([291])\n",
            "tensor([[10, 56,  3, 57,  5, 58]]) tensor([59])\n",
            "tensor([[ 42, 268, 269,  14, 270, 271, 163, 272]]) tensor([273])\n",
            "tensor([[ 80,  81, 294,  83,  19,  14, 295]]) tensor([87])\n",
            "tensor([[ 42, 141,   2,  63,  39,   3, 328, 329]]) tensor([6])\n",
            "tensor([[42, 43, 44, 45, 46, 47, 48]]) tensor([49])\n",
            "tensor([[ 42, 296, 297, 120, 298, 163, 299, 300]]) tensor([301])\n",
            "tensor([[10, 77, 78]]) tensor([79])\n",
            "tensor([[ 10,  11, 162, 163, 164]]) tensor([165])\n",
            "tensor([[  1,   2,   3,  33,  34,   5, 250]]) tensor([251])\n",
            "tensor([[ 1,  2,  3,  4,  5, 75]]) tensor([76])\n",
            "tensor([[  1,   2,   3, 124, 125,  19,   3,  52]]) tensor([126])\n",
            "tensor([[ 42, 324,   2,  63,  64,   3, 325,   5, 326]]) tensor([327])\n",
            "tensor([[  1,   2,   3, 226,   5, 227, 228, 229]]) tensor([230])\n",
            "tensor([[ 80,  81, 200,  83,  19,   3, 201, 202, 203]]) tensor([204])\n",
            "tensor([[ 42, 141,   2, 231, 147,   3, 232, 233]]) tensor([160])\n",
            "tensor([[ 10, 144,   3, 145, 176,   5,   3,  72, 177]]) tensor([178])\n",
            "tensor([[  1,   2,   3,  71,   5, 160]]) tensor([161])\n",
            "tensor([[  1,   2,   3,   4,   5, 285]]) tensor([286])\n",
            "tensor([[ 1,  2,  3, 60, 25,  5, 26, 19, 61]]) tensor([62])\n",
            "tensor([[ 1,  2,  3, 71,  5,  3, 72, 73]]) tensor([74])\n",
            "tensor([[  1,   2,   3,   4,   5, 111]]) tensor([323])\n",
            "tensor([[ 80,  81, 155, 156,  14, 157, 158]]) tensor([159])\n",
            "tensor([[ 10, 144,   3, 145, 275, 276, 277,   5,   3, 278]]) tensor([279])\n",
            "tensor([[  1,   2,   3,   4,   5, 292]]) tensor([293])\n",
            "tensor([[  1,   2,   3, 239,   5, 240]]) tensor([135])\n",
            "tensor([[ 1,  2,  3,  4,  5, 54]]) tensor([55])\n",
            "tensor([[ 42, 255, 256, 120, 257, 258]]) tensor([259])\n",
            "tensor([[ 10,  11, 194, 163, 195]]) tensor([196])\n",
            "tensor([[ 42,  88,  89, 246, 247,  19,  39, 248]]) tensor([249])\n",
            "tensor([[ 42, 141,   2, 142,  39, 180, 274]]) tensor([101])\n",
            "tensor([[ 1,  2,  3, 24, 25,  5, 26, 19, 27]]) tensor([28])\n",
            "tensor([[ 42,   2,   3, 280, 216, 281]]) tensor([282])\n",
            "tensor([[ 42,  18,   2,   3, 287, 147,   3, 288]]) tensor([210])\n",
            "tensor([[  1,   2,   3,  37, 137,   5,  26]]) tensor([138])\n",
            "tensor([[10, 98,  3, 99]]) tensor([100])\n",
            "tensor([[  1,   2,   3,  94, 141,  19,   3,  52]]) tensor([190])\n",
            "tensor([[  1,   2,   3,   4,   5, 139]]) tensor([140])\n",
            "tensor([[ 42, 305, 306, 120,  14, 307, 308, 163, 309, 310, 311, 312]]) tensor([313])\n",
            "tensor([[ 80,  81, 266, 156,  14, 267, 158]]) tensor([36])\n",
            "tensor([[ 42, 318,   2, 319,  63,  64,   3, 320, 321]]) tensor([322])\n",
            "tensor([[ 1,  2,  3, 71,  5, 54]]) tensor([265])\n",
            "tensor([[ 10,  77, 113]]) tensor([114])\n",
            "tensor([[ 42, 141, 120,   3, 252,   5, 253]]) tensor([254])\n",
            "tensor([[  1,   2,   3,   4,   5, 101]]) tensor([102])\n",
            "tensor([[ 42, 205,   2,  14, 206, 207, 208, 209]]) tensor([210])\n",
            "tensor([[10,  2,  3, 68,  5, 69]]) tensor([70])\n",
            "tensor([[  1,   2,   3, 151,  88,  19, 197, 198]]) tensor([199])\n",
            "tensor([[ 42, 127,   2,  63,  64,   3, 128, 129]]) tensor([130])\n",
            "tensor([[  1,  89, 234, 235, 236, 237]]) tensor([238])\n",
            "tensor([[  1,   2,   3, 145, 119,  85,   3, 283, 284]]) tensor([123])\n",
            "tensor([[ 80,  81, 131,  83,  19,   3, 132, 133]]) tensor([36])\n",
            "tensor([[ 42, 260,   2, 261,  85, 262, 263]]) tensor([264])\n",
            "tensor([[  1,   2,   3, 168, 169, 170,  85,  86]]) tensor([171])\n",
            "tensor([[ 1,  2,  3, 17, 18, 19, 20, 21, 22]]) tensor([23])\n",
            "tensor([[ 42, 119, 120,   3, 121,  96, 122]]) tensor([123])\n",
            "tensor([[42, 88, 89, 90, 91, 39, 92]]) tensor([93])\n",
            "tensor([[  1,   2,   3, 151, 152,  19, 153]]) tensor([154])\n",
            "tensor([[  1,   2,   3,  37,  38,  39, 166]]) tensor([167])\n",
            "tensor([[ 1,  2,  3, 94, 95, 96]]) tensor([97])\n",
            "tensor([[ 42, 109,   2, 110,  19, 111]]) tensor([112])\n",
            "tensor([[ 1,  2,  3, 50, 51, 19,  3, 52]]) tensor([53])\n",
            "tensor([[80, 81, 82, 83, 84, 85, 86]]) tensor([87])\n",
            "tensor([[ 42,  18, 120,   3, 191, 192]]) tensor([193])\n",
            "tensor([[ 1,  2,  3, 33, 34,  5, 35]]) tensor([36])\n",
            "tensor([[  1,   2,   3,   4,   5, 211]]) tensor([212])\n",
            "tensor([[ 42,   2,   3, 215, 141, 173, 216, 174]]) tensor([115])\n",
            "tensor([[ 1,  2,  3, 37, 38, 39, 40]]) tensor([41])\n",
            "tensor([[  1,   2,   3,  17, 117,  85,  86]]) tensor([118])\n",
            "tensor([[1, 2, 3, 4, 5, 6]]) tensor([7])\n",
            "tensor([[42, 18,  2, 63, 64,  3, 65, 66]]) tensor([67])\n",
            "tensor([[10, 11, 12, 13, 14, 15]]) tensor([16])\n",
            "tensor([[ 42, 221, 120, 222, 223,  19,  14, 224,  43]]) tensor([225])\n",
            "tensor([[ 10, 314,   3, 315, 316]]) tensor([317])\n",
            "tensor([[ 10, 144,   3, 145, 146, 147, 148,  85,   3, 149]]) tensor([150])\n",
            "tensor([[  1,   2,   3,   4,   5, 241, 242]]) tensor([243])\n",
            "tensor([[ 42, 179,   2,  63,  39, 180, 181, 147, 182, 183]]) tensor([184])\n",
            "tensor([[ 10,  77, 213]]) tensor([214])\n"
          ]
        }
      ]
    },
    {
      "cell_type": "code",
      "source": [
        "import torch.nn as nn\n"
      ],
      "metadata": {
        "id": "IotQ7RSLvPFl"
      },
      "execution_count": 25,
      "outputs": []
    },
    {
      "cell_type": "code",
      "source": [
        "class SimpleRNN(nn.Module):\n",
        "  def __init__(self , vocab_size):\n",
        "    super().__init__()\n",
        "    self.embedding = nn.Embedding(vocab_size , embedding_dim = 50)\n",
        "    self.rnn = nn.RNN(50, 64, batch_first=True) # Add batch_first=True\n",
        "    self.fc = nn.Linear(64 , vocab_size)\n",
        "\n",
        "  def forward(self , question):\n",
        "    embedded_question = self.embedding(question)\n",
        "    hidden , final = self.rnn(embedded_question)\n",
        "    output = self.fc(final.squeeze(0))\n",
        "\n",
        "\n",
        "\n",
        "    return output"
      ],
      "metadata": {
        "id": "y_3q5kza4XZh"
      },
      "execution_count": 35,
      "outputs": []
    },
    {
      "cell_type": "code",
      "source": [
        "x = nn.Embedding(324, embedding_dim=50)\n",
        "y = nn.RNN(50, 64, batch_first=True)\n",
        "z = nn.Linear(64, 324)\n",
        "\n",
        "a = dataset[0][0].reshape(1,6)\n",
        "print(\"shape of a:\", a.shape)\n",
        "b = x(a)\n",
        "print(\"shape of b:\", b.shape)\n",
        "c, d = y(b)\n",
        "print(\"shape of c:\", c.shape)\n",
        "print(\"shape of d:\", d.shape)\n",
        "\n",
        "e = z(d.squeeze(0))\n",
        "\n",
        "print(\"shape of e:\", e.shape)"
      ],
      "metadata": {
        "colab": {
          "base_uri": "https://localhost:8080/"
        },
        "id": "Bh82RtunmS6Z",
        "outputId": "481c8a34-2926-4d7e-bb1e-e09d8f1d3ace"
      },
      "execution_count": 36,
      "outputs": [
        {
          "output_type": "stream",
          "name": "stdout",
          "text": [
            "shape of a: torch.Size([1, 6])\n",
            "shape of b: torch.Size([1, 6, 50])\n",
            "shape of c: torch.Size([1, 6, 64])\n",
            "shape of d: torch.Size([1, 1, 64])\n",
            "shape of e: torch.Size([1, 324])\n"
          ]
        }
      ]
    },
    {
      "cell_type": "code",
      "source": [
        "learning_rate = 0.001\n",
        "epochs = 20"
      ],
      "metadata": {
        "id": "HYgQ3n_t0RIV"
      },
      "execution_count": 37,
      "outputs": []
    },
    {
      "cell_type": "code",
      "source": [
        "model = SimpleRNN(len(vocab))"
      ],
      "metadata": {
        "id": "kULvWQKD0BkB"
      },
      "execution_count": 38,
      "outputs": []
    },
    {
      "cell_type": "code",
      "source": [
        "criterion = nn.CrossEntropyLoss()\n",
        "optimizer = torch.optim.Adam(model.parameters() , lr = learning_rate)"
      ],
      "metadata": {
        "id": "sJZmLzKw0Y7o"
      },
      "execution_count": 39,
      "outputs": []
    },
    {
      "cell_type": "code",
      "source": [
        "#training loop\n",
        "\n",
        "for epoch in range(epochs):\n",
        "  total_loss = 0\n",
        "\n",
        "  for question , answer in dataloader:\n",
        "    optimizer.zero_grad()\n",
        "\n",
        "    # forward pass\n",
        "    output = model(question)\n",
        "\n",
        "\n",
        "    # loss\n",
        "    loss = criterion(output, answer[0])\n",
        "\n",
        "    #gradient\n",
        "    loss.backward()\n",
        "\n",
        "    #optimizer\n",
        "    optimizer.step()\n",
        "\n",
        "    total_loss = total_loss + loss.item()\n",
        "\n",
        "  print(f\"Epoch {epoch+1} , Loss {total_loss:4f}\")"
      ],
      "metadata": {
        "id": "T6n2pg9g0qOJ",
        "colab": {
          "base_uri": "https://localhost:8080/"
        },
        "outputId": "3dec4bdd-a416-44f7-c79a-c01839625b2a"
      },
      "execution_count": 40,
      "outputs": [
        {
          "output_type": "stream",
          "name": "stdout",
          "text": [
            "Epoch 1 , Loss 527.835549\n",
            "Epoch 2 , Loss 461.987161\n",
            "Epoch 3 , Loss 384.646560\n",
            "Epoch 4 , Loss 318.176036\n",
            "Epoch 5 , Loss 266.576741\n",
            "Epoch 6 , Loss 218.027402\n",
            "Epoch 7 , Loss 173.773589\n",
            "Epoch 8 , Loss 135.664733\n",
            "Epoch 9 , Loss 103.139863\n",
            "Epoch 10 , Loss 79.019380\n",
            "Epoch 11 , Loss 60.517730\n",
            "Epoch 12 , Loss 47.298851\n",
            "Epoch 13 , Loss 37.935087\n",
            "Epoch 14 , Loss 30.410884\n",
            "Epoch 15 , Loss 25.053473\n",
            "Epoch 16 , Loss 20.710624\n",
            "Epoch 17 , Loss 17.532779\n",
            "Epoch 18 , Loss 14.859235\n",
            "Epoch 19 , Loss 12.673813\n",
            "Epoch 20 , Loss 11.025276\n"
          ]
        }
      ]
    },
    {
      "cell_type": "code",
      "source": [
        "dataset[0][0]"
      ],
      "metadata": {
        "id": "D3gogbEDnnAK",
        "colab": {
          "base_uri": "https://localhost:8080/"
        },
        "outputId": "78b157b3-aa3f-4a15-e608-5047991287fe"
      },
      "execution_count": 41,
      "outputs": [
        {
          "output_type": "execute_result",
          "data": {
            "text/plain": [
              "tensor([1, 2, 3, 4, 5, 6])"
            ]
          },
          "metadata": {},
          "execution_count": 41
        }
      ]
    },
    {
      "cell_type": "code",
      "source": [
        "x = nn.Embedding(324 , embedding_dim = 50)"
      ],
      "metadata": {
        "id": "Pnmc1X0-np0u"
      },
      "execution_count": 42,
      "outputs": []
    },
    {
      "cell_type": "code",
      "source": [
        "a = x(dataset[0][0])"
      ],
      "metadata": {
        "id": "EBSTbyVKocZh"
      },
      "execution_count": 43,
      "outputs": []
    },
    {
      "cell_type": "code",
      "source": [
        "a"
      ],
      "metadata": {
        "id": "4YDHaNLWonZ7",
        "colab": {
          "base_uri": "https://localhost:8080/"
        },
        "outputId": "5f79334a-7778-4590-b6d6-a296a75ba8ca"
      },
      "execution_count": 44,
      "outputs": [
        {
          "output_type": "execute_result",
          "data": {
            "text/plain": [
              "tensor([[-0.6172,  0.3243, -0.3686, -1.7659,  1.2906,  1.0235, -0.7728,  0.7225,\n",
              "         -0.1870,  0.1488,  0.0472, -0.9393, -0.7688, -0.8547, -2.1375,  0.2744,\n",
              "         -0.7245,  0.8787, -0.2636, -0.4640,  0.8666,  0.1857, -0.3694,  0.6802,\n",
              "          1.4565,  0.7600,  0.3792, -0.4732, -1.7088,  2.0487, -0.7011, -0.1272,\n",
              "         -1.4255,  0.7914,  1.0877,  2.0183, -0.5746,  1.0130, -0.4145,  0.5740,\n",
              "          0.1632,  1.5309,  1.5430,  0.6930, -0.1992,  1.7627,  1.3085,  1.1312,\n",
              "          0.3251, -0.6989],\n",
              "        [-0.5805, -0.2646, -0.7876,  1.6002, -0.1185,  1.3550, -0.3294, -0.8243,\n",
              "          0.4590,  2.1426, -0.9060, -0.1879, -0.8611, -1.6536,  1.5162,  0.5254,\n",
              "          1.3127, -0.8092,  0.5910,  0.1183, -0.0946,  0.6340,  1.1360,  0.1906,\n",
              "         -1.1326, -1.6813,  1.8757, -0.5279, -1.9669,  0.0083,  1.9780, -0.9417,\n",
              "         -1.4244,  0.0906, -0.1758, -1.1140,  1.1573,  0.4054, -0.3393, -1.3049,\n",
              "         -2.1114,  0.6926,  0.8290,  1.3332, -1.8414,  0.8256,  0.1660,  0.1313,\n",
              "          1.1505,  0.6414],\n",
              "        [ 1.9063,  1.0601,  0.3135, -0.4140,  0.2727, -0.1824,  2.4589, -2.4201,\n",
              "          0.6387,  1.2141,  1.1471,  1.6080,  1.4068,  0.0077, -1.3913, -0.1454,\n",
              "          0.2644, -0.0390,  1.2188,  1.4657, -0.6441,  0.9335,  1.5013, -0.2216,\n",
              "         -2.5544,  1.1083, -1.2268, -0.2692,  0.8188,  0.1918,  0.0743, -0.3078,\n",
              "          0.4897, -0.9693, -1.0173,  0.1291, -1.3536, -0.1010, -0.3395, -0.6204,\n",
              "         -0.4670, -0.5278, -0.3109,  1.0775, -0.8243,  0.2293,  0.5567, -1.5044,\n",
              "         -1.0481, -0.6193],\n",
              "        [-0.4744,  0.8145,  0.0650,  0.1295,  0.3182, -1.5418, -0.3696,  1.3923,\n",
              "          0.3463,  1.0026,  2.2946, -0.7631, -0.3257,  0.4908,  2.4065,  0.1076,\n",
              "          0.2932, -0.8476, -0.7661, -0.4890, -0.7247, -0.1195, -2.2975,  0.0817,\n",
              "         -0.4185,  0.7626,  0.2569, -0.3759, -0.2158,  0.8764, -0.1855, -0.1812,\n",
              "          0.8269, -2.0123,  0.6357,  1.3831, -0.0233, -0.1493,  0.7252,  0.3848,\n",
              "         -0.2137, -0.1341,  0.3193, -1.8044, -2.2108, -1.4615, -0.6668, -1.2204,\n",
              "          0.7768, -1.5734],\n",
              "        [ 0.9955, -0.0786,  0.5282,  1.5676, -0.8683, -0.1013, -0.6340,  0.0361,\n",
              "          1.5945,  0.8823, -0.4537, -1.8445,  0.1183,  1.6457, -0.9797, -0.0211,\n",
              "         -0.5377, -0.9379, -0.3792,  0.3924, -0.2964,  1.0205, -2.3509, -0.4010,\n",
              "          0.4869, -0.3100, -0.5394,  0.6468,  0.2087, -0.1898,  0.4734,  1.1261,\n",
              "          0.2735,  0.2852, -0.8729,  0.8157,  0.3362,  0.8004,  0.2557,  0.4351,\n",
              "         -0.6494,  0.4143, -0.1630, -0.2021,  1.3080,  0.0360, -0.0489, -0.5389,\n",
              "         -0.1164, -0.0994],\n",
              "        [-0.0540, -1.6080,  0.6988,  1.3125, -0.2958,  0.3130, -0.5187,  1.2062,\n",
              "          1.2106, -0.1857, -0.0929, -1.6240, -0.2863,  0.0712,  1.5593, -0.8392,\n",
              "         -1.1270,  1.5589,  1.0289, -0.5370, -1.3139,  0.4907,  1.0292, -0.1498,\n",
              "         -0.4064,  0.2834,  0.7698,  2.1907, -0.9000, -0.2662, -1.0334,  0.9803,\n",
              "         -0.8840, -0.8801, -1.8187, -0.8075, -1.3415,  1.0748, -0.7499,  1.3096,\n",
              "         -0.1317, -1.0605, -0.0721,  1.0655,  1.2531,  0.9376,  0.3263, -1.1599,\n",
              "         -0.4815,  2.3291]], grad_fn=<EmbeddingBackward0>)"
            ]
          },
          "metadata": {},
          "execution_count": 44
        }
      ]
    },
    {
      "cell_type": "code",
      "source": [],
      "metadata": {
        "id": "3QteHTQMqq7Y"
      },
      "execution_count": null,
      "outputs": []
    },
    {
      "cell_type": "code",
      "source": [
        "#hideen\n",
        "y(a)[0]"
      ],
      "metadata": {
        "id": "6jwNRok0rML6",
        "colab": {
          "base_uri": "https://localhost:8080/"
        },
        "outputId": "2468f90e-2051-4021-f4e3-232391d67c8d"
      },
      "execution_count": 45,
      "outputs": [
        {
          "output_type": "execute_result",
          "data": {
            "text/plain": [
              "tensor([[-4.1898e-01, -1.6477e-01,  6.3736e-01,  7.1459e-01,  6.0833e-01,\n",
              "          3.0208e-01, -3.0570e-01, -1.4144e-02,  2.5777e-01,  2.1172e-01,\n",
              "         -4.7525e-01,  5.5579e-01, -6.5647e-01, -4.1426e-01,  2.4449e-01,\n",
              "          2.3664e-01, -1.1630e-01,  4.8952e-01,  6.2567e-01,  3.9194e-03,\n",
              "         -2.7145e-01, -9.5935e-02, -3.2482e-01, -1.9655e-01,  2.1052e-01,\n",
              "         -3.6577e-02,  4.4710e-01,  8.3204e-01,  5.8832e-01, -6.3858e-01,\n",
              "          2.3778e-01, -4.5751e-01, -1.4358e-01, -4.8510e-01,  5.3388e-01,\n",
              "         -1.5240e-01,  4.6359e-01,  8.0313e-01,  2.9700e-01, -2.7239e-02,\n",
              "         -4.5080e-01, -3.3380e-01, -2.2769e-02,  3.4166e-01, -1.0316e-01,\n",
              "          5.9677e-01,  4.9460e-01, -6.3101e-02,  2.0771e-01, -6.6462e-01,\n",
              "         -5.8169e-01, -3.9007e-01,  2.3440e-01, -1.2622e-01,  7.0548e-01,\n",
              "         -5.5808e-02, -1.9553e-01,  1.0320e-01,  2.6513e-01, -3.3575e-01,\n",
              "          1.8525e-01, -4.1205e-01, -2.2905e-01,  3.4061e-01],\n",
              "        [-1.0484e-01, -2.6232e-01, -3.3180e-01,  5.6588e-01,  1.7768e-01,\n",
              "         -1.7122e-01,  7.7924e-01,  4.7213e-02,  6.6922e-01,  6.3728e-01,\n",
              "          4.9338e-01,  8.2406e-01, -5.6510e-01, -7.7699e-01,  4.8615e-01,\n",
              "         -6.0842e-02, -9.0555e-01, -2.1972e-01, -3.1125e-01,  6.0871e-01,\n",
              "          5.2283e-01,  2.5201e-01,  1.8737e-02, -2.7970e-01,  7.4718e-01,\n",
              "         -1.8677e-01, -1.1981e-02, -1.5523e-02, -3.0666e-01, -3.3420e-01,\n",
              "         -2.3767e-01, -3.2555e-01,  3.4936e-01,  6.1371e-02, -4.9906e-01,\n",
              "         -8.8519e-01, -8.2022e-01,  6.6113e-01,  6.6416e-03, -1.1730e-01,\n",
              "          1.4893e-01,  4.7270e-01, -1.6398e-01,  5.8410e-01,  5.0904e-01,\n",
              "          4.2110e-01,  3.9292e-01,  1.0395e-01, -6.1226e-01, -3.6688e-01,\n",
              "         -2.1637e-01,  1.0886e-01,  3.0180e-01, -7.9987e-02,  1.8392e-01,\n",
              "          1.6186e-01, -7.8925e-01,  9.7733e-02,  6.9466e-01,  5.0597e-01,\n",
              "         -7.1162e-01, -4.0996e-01, -7.8348e-01, -9.1405e-04],\n",
              "        [-2.0112e-01, -3.1258e-02,  6.3771e-01, -3.3177e-01, -1.8428e-01,\n",
              "         -5.7502e-01,  2.5676e-01,  7.1814e-01,  1.1237e-02,  1.5803e-01,\n",
              "          1.2816e-01,  4.8720e-01, -3.3256e-01,  3.6577e-01, -7.8135e-02,\n",
              "          2.9288e-01, -8.4858e-02, -4.5863e-01,  3.0885e-01,  5.5466e-01,\n",
              "         -4.3929e-01, -2.7482e-01,  2.3632e-01, -7.7055e-01,  5.1775e-01,\n",
              "         -6.4483e-01, -1.2104e-01,  3.1905e-01, -4.1245e-01, -5.0761e-01,\n",
              "          3.0266e-01,  6.3475e-01, -8.9073e-01,  1.3131e-01, -5.1548e-01,\n",
              "          3.2482e-01,  5.3193e-02,  9.3515e-03, -6.1337e-01,  5.6338e-01,\n",
              "         -6.9544e-01, -8.7299e-03,  4.5920e-01,  3.4318e-02, -9.4201e-01,\n",
              "          3.3096e-02, -2.5331e-01,  1.4095e-01, -6.3468e-01, -6.7508e-01,\n",
              "          5.7761e-01, -2.1379e-01,  2.8245e-02,  5.2951e-01, -7.9071e-01,\n",
              "          2.7118e-01, -3.8951e-01, -4.4106e-01,  4.6359e-01,  7.6765e-01,\n",
              "         -6.7630e-01,  6.6768e-01,  2.3506e-01,  2.7796e-01],\n",
              "        [ 1.6145e-01,  8.9004e-01,  4.2292e-01,  4.1643e-01,  2.1385e-01,\n",
              "         -8.2730e-02, -3.1470e-01, -5.1883e-02,  2.9675e-01, -6.3892e-01,\n",
              "         -2.8208e-01, -3.5408e-01, -3.8788e-01,  5.7141e-01,  6.1309e-01,\n",
              "          5.6281e-02, -5.9525e-01, -1.5522e-01, -5.4953e-01,  2.7207e-02,\n",
              "          7.5889e-02,  2.0182e-02, -5.2487e-01,  2.5127e-01,  2.9364e-01,\n",
              "         -2.2144e-02, -4.7986e-01, -7.1368e-01, -4.2706e-01, -7.8565e-01,\n",
              "          5.4252e-01,  8.4128e-02,  9.5136e-01, -4.3705e-01, -7.4763e-01,\n",
              "          7.6717e-01, -4.7395e-01,  1.3451e-01, -7.3834e-01,  7.4275e-01,\n",
              "          1.1326e-02,  6.9971e-01, -4.6515e-01, -1.2594e-01, -5.5667e-01,\n",
              "         -2.9802e-06,  3.4377e-01, -5.6657e-01,  7.1428e-01,  1.8891e-01,\n",
              "         -9.6807e-01, -8.0551e-01, -4.1632e-01,  6.6515e-01,  3.1759e-01,\n",
              "          8.8165e-02, -6.0384e-01,  3.9333e-01, -5.4484e-01, -5.1293e-01,\n",
              "          5.7924e-01,  2.7856e-01,  2.0910e-02,  3.7760e-01],\n",
              "        [ 2.9973e-01,  1.5874e-01, -9.0145e-02,  6.4453e-01, -5.6706e-01,\n",
              "         -2.3904e-01, -6.5195e-02,  1.6975e-02,  5.2243e-01,  4.2704e-01,\n",
              "         -6.6715e-01,  8.3562e-02,  2.4601e-01,  7.0065e-01, -3.4868e-01,\n",
              "          4.3153e-01,  2.0617e-01,  6.1932e-01, -6.7265e-02, -6.4668e-03,\n",
              "         -2.6573e-01,  5.1159e-01,  2.2675e-01,  1.6082e-02, -6.9820e-01,\n",
              "          5.7765e-01,  4.0737e-01, -4.5250e-01, -4.2642e-01,  4.2533e-01,\n",
              "          5.4774e-01,  6.7867e-01,  1.4318e-01,  2.0644e-01, -1.7815e-01,\n",
              "          9.0061e-01, -5.1748e-01, -6.5869e-01,  4.4757e-01, -2.0252e-01,\n",
              "          6.8869e-02,  1.6514e-01, -1.1852e-01,  1.6816e-01, -3.2327e-01,\n",
              "         -5.5299e-01,  3.8675e-01, -7.5172e-01,  2.1758e-02,  6.3275e-01,\n",
              "         -4.5962e-02,  1.4011e-01,  3.6976e-01, -2.7759e-01,  3.6940e-01,\n",
              "         -4.2259e-01, -1.7970e-01,  1.8795e-01, -1.0211e-01,  6.9207e-01,\n",
              "          8.2192e-01, -5.1886e-01,  1.0198e-01,  3.3582e-01],\n",
              "        [ 7.5483e-02, -4.6738e-01, -2.9152e-01,  3.6875e-01,  3.0678e-01,\n",
              "         -2.9814e-01,  4.0229e-01,  2.0441e-02,  1.9841e-01, -5.7098e-02,\n",
              "          8.2814e-01, -6.4944e-01,  7.0253e-01, -5.4201e-01, -3.6252e-01,\n",
              "          8.3249e-01,  7.5930e-01,  2.8349e-01,  1.3334e-02, -5.5163e-01,\n",
              "         -1.6170e-01, -3.1448e-02, -4.2228e-01, -9.3640e-02, -8.8855e-01,\n",
              "          4.5777e-01,  7.4875e-01,  1.8243e-01, -9.6287e-02, -1.8412e-01,\n",
              "          2.7193e-01, -8.2901e-02, -3.4422e-01,  3.7524e-01, -1.3072e-01,\n",
              "          1.8121e-01, -6.7760e-01, -5.6488e-01, -7.6773e-01, -2.0843e-01,\n",
              "          5.2635e-02, -7.1909e-01, -7.9792e-01, -4.8993e-01, -6.8252e-01,\n",
              "          2.6707e-03,  9.6380e-02, -1.8474e-01, -1.7294e-01,  1.5259e-01,\n",
              "          5.3541e-01,  7.3926e-01,  7.5670e-01, -4.1918e-01, -4.1825e-01,\n",
              "          2.7271e-01, -4.9745e-01,  4.0080e-01, -5.7547e-01,  2.8429e-01,\n",
              "         -6.2816e-01,  1.3898e-01, -1.6558e-01, -6.0255e-01]],\n",
              "       grad_fn=<SqueezeBackward1>)"
            ]
          },
          "metadata": {},
          "execution_count": 45
        }
      ]
    },
    {
      "cell_type": "code",
      "source": [
        "import torch.nn.functional as F\n",
        "\n",
        "def predict(model , question ,threshold=0.5):\n",
        "\n",
        "  numerical_question = text_to_indices(question , vocab)\n",
        "\n",
        "  question_tensor = torch.tensor(numerical_question).unsqueeze(0)\n",
        "\n",
        "  output = model(question_tensor)\n",
        "\n",
        "  probs = F.softmax(output, dim =1)\n",
        "\n",
        "  value,index = torch.max(probs,dim=1)\n",
        "\n",
        "  if value < threshold:\n",
        "    print(\"i don't know\")\n",
        "  print(list(vocab.keys())[index])"
      ],
      "metadata": {
        "id": "fGLXKeRFrTEx"
      },
      "execution_count": 50,
      "outputs": []
    },
    {
      "cell_type": "code",
      "source": [
        "predict(model, \"What is the largest planet in our solar system?\")"
      ],
      "metadata": {
        "id": "8XrGWU3Otlgl",
        "colab": {
          "base_uri": "https://localhost:8080/"
        },
        "outputId": "8a4a439d-6636-4d82-f9d2-3b3a369428da"
      },
      "execution_count": 51,
      "outputs": [
        {
          "output_type": "stream",
          "name": "stdout",
          "text": [
            "Jupiter\n"
          ]
        }
      ]
    },
    {
      "cell_type": "code",
      "source": [
        "list(vocab.keys())[7]"
      ],
      "metadata": {
        "id": "J5p4vdx1uZW0",
        "colab": {
          "base_uri": "https://localhost:8080/",
          "height": 35
        },
        "outputId": "d2c409ed-b944-4834-fed8-77becbb659ff"
      },
      "execution_count": 53,
      "outputs": [
        {
          "output_type": "execute_result",
          "data": {
            "text/plain": [
              "'Paris'"
            ],
            "application/vnd.google.colaboratory.intrinsic+json": {
              "type": "string"
            }
          },
          "metadata": {},
          "execution_count": 53
        }
      ]
    },
    {
      "cell_type": "code",
      "source": [
        ""
      ],
      "metadata": {
        "id": "Tr5Pm8_9u9yI"
      },
      "execution_count": null,
      "outputs": []
    }
  ]
}