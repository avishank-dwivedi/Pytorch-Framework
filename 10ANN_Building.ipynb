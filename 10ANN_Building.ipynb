{
  "cells": [
    {
      "cell_type": "markdown",
      "metadata": {
        "colab_type": "text",
        "id": "view-in-github"
      },
      "source": [
        "<a href=\"https://colab.research.google.com/github/avishank-dwivedi/Pytorch-Framework/blob/main/10ANN_Building.ipynb\" target=\"_parent\"><img src=\"https://colab.research.google.com/assets/colab-badge.svg\" alt=\"Open In Colab\"/></a>"
      ]
    },
    {
      "cell_type": "code",
      "execution_count": null,
      "metadata": {
        "id": "kc7M5XXc_UTL"
      },
      "outputs": [],
      "source": [
        "import pandas as pd\n",
        "from sklearn.model_selection import train_test_split\n",
        "import torch\n",
        "import torch.nn as nn\n",
        "import torch.optim as optim\n",
        "from torch.utils.data import DataLoader, TensorDataset, Dataset\n",
        "from sklearn.preprocessing import StandardScaler\n",
        "import matplotlib.pyplot as plt"
      ]
    },
    {
      "cell_type": "code",
      "execution_count": null,
      "metadata": {
        "colab": {
          "base_uri": "https://localhost:8080/"
        },
        "id": "vSpOTeqnCYEp",
        "outputId": "354e06f8-14e3-4b4f-9745-ea705bbb545e"
      },
      "outputs": [
        {
          "data": {
            "text/plain": [
              "<torch._C.Generator at 0x7f01d3d858b0>"
            ]
          },
          "execution_count": 29,
          "metadata": {},
          "output_type": "execute_result"
        }
      ],
      "source": [
        "torch.manual_seed(42)"
      ]
    },
    {
      "cell_type": "code",
      "execution_count": null,
      "metadata": {
        "colab": {
          "base_uri": "https://localhost:8080/",
          "height": 255
        },
        "id": "2qGcDWcPCiHe",
        "outputId": "09e9437a-1b8e-455a-fbc9-998852b23683"
      },
      "outputs": [
        {
          "data": {
            "application/vnd.google.colaboratory.intrinsic+json": {
              "type": "dataframe",
              "variable_name": "df"
            },
            "text/html": [
              "\n",
              "  <div id=\"df-c1e05231-e2c7-4847-87c4-52d50f172a4a\" class=\"colab-df-container\">\n",
              "    <div>\n",
              "<style scoped>\n",
              "    .dataframe tbody tr th:only-of-type {\n",
              "        vertical-align: middle;\n",
              "    }\n",
              "\n",
              "    .dataframe tbody tr th {\n",
              "        vertical-align: top;\n",
              "    }\n",
              "\n",
              "    .dataframe thead th {\n",
              "        text-align: right;\n",
              "    }\n",
              "</style>\n",
              "<table border=\"1\" class=\"dataframe\">\n",
              "  <thead>\n",
              "    <tr style=\"text-align: right;\">\n",
              "      <th></th>\n",
              "      <th>label</th>\n",
              "      <th>pixel1</th>\n",
              "      <th>pixel2</th>\n",
              "      <th>pixel3</th>\n",
              "      <th>pixel4</th>\n",
              "      <th>pixel5</th>\n",
              "      <th>pixel6</th>\n",
              "      <th>pixel7</th>\n",
              "      <th>pixel8</th>\n",
              "      <th>pixel9</th>\n",
              "      <th>...</th>\n",
              "      <th>pixel775</th>\n",
              "      <th>pixel776</th>\n",
              "      <th>pixel777</th>\n",
              "      <th>pixel778</th>\n",
              "      <th>pixel779</th>\n",
              "      <th>pixel780</th>\n",
              "      <th>pixel781</th>\n",
              "      <th>pixel782</th>\n",
              "      <th>pixel783</th>\n",
              "      <th>pixel784</th>\n",
              "    </tr>\n",
              "  </thead>\n",
              "  <tbody>\n",
              "    <tr>\n",
              "      <th>0</th>\n",
              "      <td>0</td>\n",
              "      <td>0</td>\n",
              "      <td>0</td>\n",
              "      <td>0</td>\n",
              "      <td>0</td>\n",
              "      <td>0</td>\n",
              "      <td>0</td>\n",
              "      <td>0</td>\n",
              "      <td>9</td>\n",
              "      <td>8</td>\n",
              "      <td>...</td>\n",
              "      <td>103</td>\n",
              "      <td>87</td>\n",
              "      <td>56</td>\n",
              "      <td>0</td>\n",
              "      <td>0</td>\n",
              "      <td>0</td>\n",
              "      <td>0</td>\n",
              "      <td>0</td>\n",
              "      <td>0</td>\n",
              "      <td>0</td>\n",
              "    </tr>\n",
              "    <tr>\n",
              "      <th>1</th>\n",
              "      <td>1</td>\n",
              "      <td>0</td>\n",
              "      <td>0</td>\n",
              "      <td>0</td>\n",
              "      <td>0</td>\n",
              "      <td>0</td>\n",
              "      <td>0</td>\n",
              "      <td>0</td>\n",
              "      <td>0</td>\n",
              "      <td>0</td>\n",
              "      <td>...</td>\n",
              "      <td>34</td>\n",
              "      <td>0</td>\n",
              "      <td>0</td>\n",
              "      <td>0</td>\n",
              "      <td>0</td>\n",
              "      <td>0</td>\n",
              "      <td>0</td>\n",
              "      <td>0</td>\n",
              "      <td>0</td>\n",
              "      <td>0</td>\n",
              "    </tr>\n",
              "    <tr>\n",
              "      <th>2</th>\n",
              "      <td>2</td>\n",
              "      <td>0</td>\n",
              "      <td>0</td>\n",
              "      <td>0</td>\n",
              "      <td>0</td>\n",
              "      <td>0</td>\n",
              "      <td>0</td>\n",
              "      <td>14</td>\n",
              "      <td>53</td>\n",
              "      <td>99</td>\n",
              "      <td>...</td>\n",
              "      <td>0</td>\n",
              "      <td>0</td>\n",
              "      <td>0</td>\n",
              "      <td>0</td>\n",
              "      <td>63</td>\n",
              "      <td>53</td>\n",
              "      <td>31</td>\n",
              "      <td>0</td>\n",
              "      <td>0</td>\n",
              "      <td>0</td>\n",
              "    </tr>\n",
              "    <tr>\n",
              "      <th>3</th>\n",
              "      <td>2</td>\n",
              "      <td>0</td>\n",
              "      <td>0</td>\n",
              "      <td>0</td>\n",
              "      <td>0</td>\n",
              "      <td>0</td>\n",
              "      <td>0</td>\n",
              "      <td>0</td>\n",
              "      <td>0</td>\n",
              "      <td>0</td>\n",
              "      <td>...</td>\n",
              "      <td>137</td>\n",
              "      <td>126</td>\n",
              "      <td>140</td>\n",
              "      <td>0</td>\n",
              "      <td>133</td>\n",
              "      <td>224</td>\n",
              "      <td>222</td>\n",
              "      <td>56</td>\n",
              "      <td>0</td>\n",
              "      <td>0</td>\n",
              "    </tr>\n",
              "    <tr>\n",
              "      <th>4</th>\n",
              "      <td>3</td>\n",
              "      <td>0</td>\n",
              "      <td>0</td>\n",
              "      <td>0</td>\n",
              "      <td>0</td>\n",
              "      <td>0</td>\n",
              "      <td>0</td>\n",
              "      <td>0</td>\n",
              "      <td>0</td>\n",
              "      <td>0</td>\n",
              "      <td>...</td>\n",
              "      <td>0</td>\n",
              "      <td>0</td>\n",
              "      <td>0</td>\n",
              "      <td>0</td>\n",
              "      <td>0</td>\n",
              "      <td>0</td>\n",
              "      <td>0</td>\n",
              "      <td>0</td>\n",
              "      <td>0</td>\n",
              "      <td>0</td>\n",
              "    </tr>\n",
              "  </tbody>\n",
              "</table>\n",
              "<p>5 rows × 785 columns</p>\n",
              "</div>\n",
              "    <div class=\"colab-df-buttons\">\n",
              "\n",
              "  <div class=\"colab-df-container\">\n",
              "    <button class=\"colab-df-convert\" onclick=\"convertToInteractive('df-c1e05231-e2c7-4847-87c4-52d50f172a4a')\"\n",
              "            title=\"Convert this dataframe to an interactive table.\"\n",
              "            style=\"display:none;\">\n",
              "\n",
              "  <svg xmlns=\"http://www.w3.org/2000/svg\" height=\"24px\" viewBox=\"0 -960 960 960\">\n",
              "    <path d=\"M120-120v-720h720v720H120Zm60-500h600v-160H180v160Zm220 220h160v-160H400v160Zm0 220h160v-160H400v160ZM180-400h160v-160H180v160Zm440 0h160v-160H620v160ZM180-180h160v-160H180v160Zm440 0h160v-160H620v160Z\"/>\n",
              "  </svg>\n",
              "    </button>\n",
              "\n",
              "  <style>\n",
              "    .colab-df-container {\n",
              "      display:flex;\n",
              "      gap: 12px;\n",
              "    }\n",
              "\n",
              "    .colab-df-convert {\n",
              "      background-color: #E8F0FE;\n",
              "      border: none;\n",
              "      border-radius: 50%;\n",
              "      cursor: pointer;\n",
              "      display: none;\n",
              "      fill: #1967D2;\n",
              "      height: 32px;\n",
              "      padding: 0 0 0 0;\n",
              "      width: 32px;\n",
              "    }\n",
              "\n",
              "    .colab-df-convert:hover {\n",
              "      background-color: #E2EBFA;\n",
              "      box-shadow: 0px 1px 2px rgba(60, 64, 67, 0.3), 0px 1px 3px 1px rgba(60, 64, 67, 0.15);\n",
              "      fill: #174EA6;\n",
              "    }\n",
              "\n",
              "    .colab-df-buttons div {\n",
              "      margin-bottom: 4px;\n",
              "    }\n",
              "\n",
              "    [theme=dark] .colab-df-convert {\n",
              "      background-color: #3B4455;\n",
              "      fill: #D2E3FC;\n",
              "    }\n",
              "\n",
              "    [theme=dark] .colab-df-convert:hover {\n",
              "      background-color: #434B5C;\n",
              "      box-shadow: 0px 1px 3px 1px rgba(0, 0, 0, 0.15);\n",
              "      filter: drop-shadow(0px 1px 2px rgba(0, 0, 0, 0.3));\n",
              "      fill: #FFFFFF;\n",
              "    }\n",
              "  </style>\n",
              "\n",
              "    <script>\n",
              "      const buttonEl =\n",
              "        document.querySelector('#df-c1e05231-e2c7-4847-87c4-52d50f172a4a button.colab-df-convert');\n",
              "      buttonEl.style.display =\n",
              "        google.colab.kernel.accessAllowed ? 'block' : 'none';\n",
              "\n",
              "      async function convertToInteractive(key) {\n",
              "        const element = document.querySelector('#df-c1e05231-e2c7-4847-87c4-52d50f172a4a');\n",
              "        const dataTable =\n",
              "          await google.colab.kernel.invokeFunction('convertToInteractive',\n",
              "                                                    [key], {});\n",
              "        if (!dataTable) return;\n",
              "\n",
              "        const docLinkHtml = 'Like what you see? Visit the ' +\n",
              "          '<a target=\"_blank\" href=https://colab.research.google.com/notebooks/data_table.ipynb>data table notebook</a>'\n",
              "          + ' to learn more about interactive tables.';\n",
              "        element.innerHTML = '';\n",
              "        dataTable['output_type'] = 'display_data';\n",
              "        await google.colab.output.renderOutput(dataTable, element);\n",
              "        const docLink = document.createElement('div');\n",
              "        docLink.innerHTML = docLinkHtml;\n",
              "        element.appendChild(docLink);\n",
              "      }\n",
              "    </script>\n",
              "  </div>\n",
              "\n",
              "\n",
              "    <div id=\"df-d64987bb-27fa-4262-8552-004b895f6714\">\n",
              "      <button class=\"colab-df-quickchart\" onclick=\"quickchart('df-d64987bb-27fa-4262-8552-004b895f6714')\"\n",
              "                title=\"Suggest charts\"\n",
              "                style=\"display:none;\">\n",
              "\n",
              "<svg xmlns=\"http://www.w3.org/2000/svg\" height=\"24px\"viewBox=\"0 0 24 24\"\n",
              "     width=\"24px\">\n",
              "    <g>\n",
              "        <path d=\"M19 3H5c-1.1 0-2 .9-2 2v14c0 1.1.9 2 2 2h14c1.1 0 2-.9 2-2V5c0-1.1-.9-2-2-2zM9 17H7v-7h2v7zm4 0h-2V7h2v10zm4 0h-2v-4h2v4z\"/>\n",
              "    </g>\n",
              "</svg>\n",
              "      </button>\n",
              "\n",
              "<style>\n",
              "  .colab-df-quickchart {\n",
              "      --bg-color: #E8F0FE;\n",
              "      --fill-color: #1967D2;\n",
              "      --hover-bg-color: #E2EBFA;\n",
              "      --hover-fill-color: #174EA6;\n",
              "      --disabled-fill-color: #AAA;\n",
              "      --disabled-bg-color: #DDD;\n",
              "  }\n",
              "\n",
              "  [theme=dark] .colab-df-quickchart {\n",
              "      --bg-color: #3B4455;\n",
              "      --fill-color: #D2E3FC;\n",
              "      --hover-bg-color: #434B5C;\n",
              "      --hover-fill-color: #FFFFFF;\n",
              "      --disabled-bg-color: #3B4455;\n",
              "      --disabled-fill-color: #666;\n",
              "  }\n",
              "\n",
              "  .colab-df-quickchart {\n",
              "    background-color: var(--bg-color);\n",
              "    border: none;\n",
              "    border-radius: 50%;\n",
              "    cursor: pointer;\n",
              "    display: none;\n",
              "    fill: var(--fill-color);\n",
              "    height: 32px;\n",
              "    padding: 0;\n",
              "    width: 32px;\n",
              "  }\n",
              "\n",
              "  .colab-df-quickchart:hover {\n",
              "    background-color: var(--hover-bg-color);\n",
              "    box-shadow: 0 1px 2px rgba(60, 64, 67, 0.3), 0 1px 3px 1px rgba(60, 64, 67, 0.15);\n",
              "    fill: var(--button-hover-fill-color);\n",
              "  }\n",
              "\n",
              "  .colab-df-quickchart-complete:disabled,\n",
              "  .colab-df-quickchart-complete:disabled:hover {\n",
              "    background-color: var(--disabled-bg-color);\n",
              "    fill: var(--disabled-fill-color);\n",
              "    box-shadow: none;\n",
              "  }\n",
              "\n",
              "  .colab-df-spinner {\n",
              "    border: 2px solid var(--fill-color);\n",
              "    border-color: transparent;\n",
              "    border-bottom-color: var(--fill-color);\n",
              "    animation:\n",
              "      spin 1s steps(1) infinite;\n",
              "  }\n",
              "\n",
              "  @keyframes spin {\n",
              "    0% {\n",
              "      border-color: transparent;\n",
              "      border-bottom-color: var(--fill-color);\n",
              "      border-left-color: var(--fill-color);\n",
              "    }\n",
              "    20% {\n",
              "      border-color: transparent;\n",
              "      border-left-color: var(--fill-color);\n",
              "      border-top-color: var(--fill-color);\n",
              "    }\n",
              "    30% {\n",
              "      border-color: transparent;\n",
              "      border-left-color: var(--fill-color);\n",
              "      border-top-color: var(--fill-color);\n",
              "      border-right-color: var(--fill-color);\n",
              "    }\n",
              "    40% {\n",
              "      border-color: transparent;\n",
              "      border-right-color: var(--fill-color);\n",
              "      border-top-color: var(--fill-color);\n",
              "    }\n",
              "    60% {\n",
              "      border-color: transparent;\n",
              "      border-right-color: var(--fill-color);\n",
              "    }\n",
              "    80% {\n",
              "      border-color: transparent;\n",
              "      border-right-color: var(--fill-color);\n",
              "      border-bottom-color: var(--fill-color);\n",
              "    }\n",
              "    90% {\n",
              "      border-color: transparent;\n",
              "      border-bottom-color: var(--fill-color);\n",
              "    }\n",
              "  }\n",
              "</style>\n",
              "\n",
              "      <script>\n",
              "        async function quickchart(key) {\n",
              "          const quickchartButtonEl =\n",
              "            document.querySelector('#' + key + ' button');\n",
              "          quickchartButtonEl.disabled = true;  // To prevent multiple clicks.\n",
              "          quickchartButtonEl.classList.add('colab-df-spinner');\n",
              "          try {\n",
              "            const charts = await google.colab.kernel.invokeFunction(\n",
              "                'suggestCharts', [key], {});\n",
              "          } catch (error) {\n",
              "            console.error('Error during call to suggestCharts:', error);\n",
              "          }\n",
              "          quickchartButtonEl.classList.remove('colab-df-spinner');\n",
              "          quickchartButtonEl.classList.add('colab-df-quickchart-complete');\n",
              "        }\n",
              "        (() => {\n",
              "          let quickchartButtonEl =\n",
              "            document.querySelector('#df-d64987bb-27fa-4262-8552-004b895f6714 button');\n",
              "          quickchartButtonEl.style.display =\n",
              "            google.colab.kernel.accessAllowed ? 'block' : 'none';\n",
              "        })();\n",
              "      </script>\n",
              "    </div>\n",
              "\n",
              "    </div>\n",
              "  </div>\n"
            ],
            "text/plain": [
              "   label  pixel1  pixel2  pixel3  pixel4  pixel5  pixel6  pixel7  pixel8  \\\n",
              "0      0       0       0       0       0       0       0       0       9   \n",
              "1      1       0       0       0       0       0       0       0       0   \n",
              "2      2       0       0       0       0       0       0      14      53   \n",
              "3      2       0       0       0       0       0       0       0       0   \n",
              "4      3       0       0       0       0       0       0       0       0   \n",
              "\n",
              "   pixel9  ...  pixel775  pixel776  pixel777  pixel778  pixel779  pixel780  \\\n",
              "0       8  ...       103        87        56         0         0         0   \n",
              "1       0  ...        34         0         0         0         0         0   \n",
              "2      99  ...         0         0         0         0        63        53   \n",
              "3       0  ...       137       126       140         0       133       224   \n",
              "4       0  ...         0         0         0         0         0         0   \n",
              "\n",
              "   pixel781  pixel782  pixel783  pixel784  \n",
              "0         0         0         0         0  \n",
              "1         0         0         0         0  \n",
              "2        31         0         0         0  \n",
              "3       222        56         0         0  \n",
              "4         0         0         0         0  \n",
              "\n",
              "[5 rows x 785 columns]"
            ]
          },
          "execution_count": 30,
          "metadata": {},
          "output_type": "execute_result"
        }
      ],
      "source": [
        "df = pd.read_csv(\"fashion-mnist_test.csv\")\n",
        "df.head()"
      ]
    },
    {
      "cell_type": "code",
      "execution_count": null,
      "metadata": {
        "colab": {
          "base_uri": "https://localhost:8080/"
        },
        "id": "yEHpMCtgsQQh",
        "outputId": "c0efce49-281e-4c3e-dd97-842bc0d81053"
      },
      "outputs": [
        {
          "data": {
            "text/plain": [
              "(10000, 785)"
            ]
          },
          "execution_count": 31,
          "metadata": {},
          "output_type": "execute_result"
        }
      ],
      "source": [
        "df.shape"
      ]
    },
    {
      "cell_type": "code",
      "execution_count": null,
      "metadata": {
        "colab": {
          "base_uri": "https://localhost:8080/",
          "height": 671
        },
        "id": "7a024968",
        "outputId": "0e6d4b62-c601-4574-86be-ccd3f74eecc9"
      },
      "outputs": [
        {
          "data": {
            "image/png": "[encoded data removed]",
            "text/plain": [
              "<Figure size 1000x1000 with 16 Axes>"
            ]
          },
          "metadata": {},
          "output_type": "display_data"
        }
      ],
      "source": [
        "#create a 4*4 grid of images\n",
        "fig, axes = plt.subplots(4 , 4 , figsize=(10 , 10))\n",
        "fig.suptitle(\"first 16 /images\" , fontsize=16)\n",
        "\n",
        "#plot the first 16 image from the dataset\n",
        "for i , ax in enumerate(axes.flat):\n",
        "    img = df.iloc[i , 1:].values.reshape(28 , 28) #Reshape to 28*28\n",
        "    ax.imshow(img)# display in grayscale\n",
        "    ax.axis('off') # Remove axis for a clear look\n",
        "    ax.set_title(f\"Label: {df.iloc[i , 0]}\") #show the label\n",
        "\n",
        "plt.tight_layout(rect = [0,0,1,0.96])\n",
        "plt.show()"
      ]
    },
    {
      "cell_type": "code",
      "execution_count": null,
      "metadata": {
        "id": "DL6USFRHopYm"
      },
      "outputs": [],
      "source": [
        "# train test split\n",
        "X = df.iloc[:, 1:].values\n",
        "y = df.iloc[:, 0].values\n",
        "\n",
        "X_train, X_test, y_train, y_test = train_test_split(X, y, test_size=0.2, random_state=42)\n"
      ]
    },
    {
      "cell_type": "code",
      "execution_count": null,
      "metadata": {
        "id": "ogHnhXSXo9yx"
      },
      "outputs": [],
      "source": [
        "#scaling the feature\n",
        "x_train = X_train / 255.0\n",
        "x_test = X_test / 255.05"
      ]
    },
    {
      "cell_type": "code",
      "execution_count": null,
      "metadata": {
        "colab": {
          "base_uri": "https://localhost:8080/"
        },
        "id": "xiVxFFShpHEA",
        "outputId": "22e43bdf-7a32-48c9-dbbb-91e7c216c4fe"
      },
      "outputs": [
        {
          "data": {
            "text/plain": [
              "array([[0.        , 0.        , 0.        , ..., 0.        , 0.        ,\n",
              "        0.        ],\n",
              "       [0.        , 0.        , 0.        , ..., 0.        , 0.        ,\n",
              "        0.        ],\n",
              "       [0.        , 0.        , 0.        , ..., 0.        , 0.        ,\n",
              "        0.        ],\n",
              "       ...,\n",
              "       [0.        , 0.        , 0.        , ..., 0.        , 0.        ,\n",
              "        0.        ],\n",
              "       [0.        , 0.        , 0.        , ..., 0.45098039, 0.1372549 ,\n",
              "        0.        ],\n",
              "       [0.        , 0.        , 0.        , ..., 0.        , 0.        ,\n",
              "        0.        ]])"
            ]
          },
          "execution_count": 35,
          "metadata": {},
          "output_type": "execute_result"
        }
      ],
      "source": [
        "x_train"
      ]
    },
    {
      "cell_type": "code",
      "execution_count": null,
      "metadata": {
        "id": "ID0ESE1YpOEl"
      },
      "outputs": [],
      "source": [
        "#crete custom dataset class\n",
        "class CustomDataset(Dataset):\n",
        "  def __init__(self , features , labels):\n",
        "    self.features =torch.tensor(features , dtype=torch.float32)\n",
        "    self.labels = torch.tensor(labels , dtype=torch.long)\n",
        "\n",
        "  def __len__(self):\n",
        "    return len(self.features)\n",
        "\n",
        "  def __getitem__(self , idx):\n",
        "    return self.features[idx] , self.labels[idx]"
      ]
    },
    {
      "cell_type": "code",
      "execution_count": null,
      "metadata": {
        "id": "6eaLr_eCqPOu"
      },
      "outputs": [],
      "source": [
        "#create train dataset object\n",
        "train_dataset = CustomDataset(x_train , y_train)"
      ]
    },
    {
      "cell_type": "code",
      "execution_count": null,
      "metadata": {
        "colab": {
          "base_uri": "https://localhost:8080/"
        },
        "id": "XBf-utcrqi_I",
        "outputId": "4979515f-1fd4-48b5-8249-acefc5ddf874"
      },
      "outputs": [
        {
          "data": {
            "text/plain": [
              "8000"
            ]
          },
          "execution_count": 38,
          "metadata": {},
          "output_type": "execute_result"
        }
      ],
      "source": [
        "len(train_dataset)"
      ]
    },
    {
      "cell_type": "code",
      "execution_count": null,
      "metadata": {
        "id": "qF70M2MGq84k"
      },
      "outputs": [],
      "source": [
        "#create test_dataset  object\n",
        "test_dataset = CustomDataset(x_test , y_test)"
      ]
    },
    {
      "cell_type": "code",
      "execution_count": null,
      "metadata": {
        "colab": {
          "base_uri": "https://localhost:8080/"
        },
        "id": "rqBEGwJfseMn",
        "outputId": "e98d9780-6b21-47ea-f8a0-2a499c2f1e5a"
      },
      "outputs": [
        {
          "data": {
            "text/plain": [
              "2000"
            ]
          },
          "execution_count": 40,
          "metadata": {},
          "output_type": "execute_result"
        }
      ],
      "source": [
        "len(test_dataset)"
      ]
    },
    {
      "cell_type": "code",
      "execution_count": null,
      "metadata": {
        "id": "n5nrcFe_sgwX"
      },
      "outputs": [],
      "source": [
        "#create train and test loader\n",
        "train_loader = DataLoader(train_dataset , batch_size=32 , shuffle=True)\n",
        "test_loader = DataLoader(test_dataset , batch_size=32 , shuffle=False)"
      ]
    },
    {
      "cell_type": "code",
      "execution_count": null,
      "metadata": {
        "id": "UOR4Zilos0mF"
      },
      "outputs": [],
      "source": [
        "#define  NN class\n",
        "\n",
        "class MyNN(nn.Module):\n",
        "  def __init__(self , new_features):\n",
        "    super().__init__()\n",
        "    self.model = nn.Sequential(\n",
        "        nn.Linear(new_features , 128),\n",
        "        nn.ReLU(),\n",
        "        nn.Linear(128 , 64),\n",
        "        nn.ReLU(),\n",
        "        nn.Linear(64 , 10)\n",
        "    )\n",
        "\n",
        "  def forward(self , x):\n",
        "    return self.model(x)"
      ]
    },
    {
      "cell_type": "code",
      "execution_count": null,
      "metadata": {
        "id": "eeFCSofZtw0_"
      },
      "outputs": [],
      "source": [
        "#set learning rate and epochs\n",
        "learning_rate = 0.001\n",
        "epochs = 100"
      ]
    },
    {
      "cell_type": "code",
      "execution_count": null,
      "metadata": {
        "id": "5jqC28tBuMql"
      },
      "outputs": [],
      "source": [
        "#initialize the model\n",
        "model = MyNN(X_train.shape[1])\n",
        "\n",
        "#loss function\n",
        "criterion = nn.CrossEntropyLoss()\n",
        "\n",
        "#optimizer\n",
        "optimizer = optim.SGD(model.parameters() , lr=learning_rate)"
      ]
    },
    {
      "cell_type": "code",
      "execution_count": null,
      "metadata": {
        "colab": {
          "base_uri": "https://localhost:8080/"
        },
        "id": "BLMyTLBlulJU",
        "outputId": "55f4bc14-3f6b-4209-f078-ba211e041f47"
      },
      "outputs": [
        {
          "name": "stdout",
          "output_type": "stream",
          "text": [
            "Epoch 1/100 , Loss : 2.2975646991729737\n",
            "Epoch 2/100 , Loss : 2.2744469575881956\n",
            "Epoch 3/100 , Loss : 2.251522254943848\n",
            "Epoch 4/100 , Loss : 2.2261073980331423\n",
            "Epoch 5/100 , Loss : 2.195514247894287\n",
            "Epoch 6/100 , Loss : 2.1585581293106078\n",
            "Epoch 7/100 , Loss : 2.113210988044739\n",
            "Epoch 8/100 , Loss : 2.056318103313446\n",
            "Epoch 9/100 , Loss : 1.988385066986084\n",
            "Epoch 10/100 , Loss : 1.911055790424347\n",
            "Epoch 11/100 , Loss : 1.8264941692352294\n",
            "Epoch 12/100 , Loss : 1.739262074947357\n",
            "Epoch 13/100 , Loss : 1.6533391499519348\n",
            "Epoch 14/100 , Loss : 1.5717152070999145\n",
            "Epoch 15/100 , Loss : 1.4958460636138915\n",
            "Epoch 16/100 , Loss : 1.4268085608482362\n",
            "Epoch 17/100 , Loss : 1.3640594844818115\n",
            "Epoch 18/100 , Loss : 1.307828751564026\n",
            "Epoch 19/100 , Loss : 1.2569824781417847\n",
            "Epoch 20/100 , Loss : 1.2111564853191377\n",
            "Epoch 21/100 , Loss : 1.1695742993354796\n",
            "Epoch 22/100 , Loss : 1.1320921330451965\n",
            "Epoch 23/100 , Loss : 1.0980064392089843\n",
            "Epoch 24/100 , Loss : 1.066915439605713\n",
            "Epoch 25/100 , Loss : 1.0384489479064942\n",
            "Epoch 26/100 , Loss : 1.0128770105838776\n",
            "Epoch 27/100 , Loss : 0.989093296289444\n",
            "Epoch 28/100 , Loss : 0.9668779847621918\n",
            "Epoch 29/100 , Loss : 0.9476088292598724\n",
            "Epoch 30/100 , Loss : 0.9289528737068177\n",
            "Epoch 31/100 , Loss : 0.9126494355201721\n",
            "Epoch 32/100 , Loss : 0.8973652625083923\n",
            "Epoch 33/100 , Loss : 0.8832354896068573\n",
            "Epoch 34/100 , Loss : 0.8697707533836365\n",
            "Epoch 35/100 , Loss : 0.8575088291168212\n",
            "Epoch 36/100 , Loss : 0.845938645362854\n",
            "Epoch 37/100 , Loss : 0.8355012195110321\n",
            "Epoch 38/100 , Loss : 0.825218453168869\n",
            "Epoch 39/100 , Loss : 0.8157287137508392\n",
            "Epoch 40/100 , Loss : 0.8066191544532776\n",
            "Epoch 41/100 , Loss : 0.7986503697633743\n",
            "Epoch 42/100 , Loss : 0.79020556473732\n",
            "Epoch 43/100 , Loss : 0.7822643078565598\n",
            "Epoch 44/100 , Loss : 0.7754712117910385\n",
            "Epoch 45/100 , Loss : 0.7684334505796433\n",
            "Epoch 46/100 , Loss : 0.7615849194526673\n",
            "Epoch 47/100 , Loss : 0.754820311665535\n",
            "Epoch 48/100 , Loss : 0.7486280316114425\n",
            "Epoch 49/100 , Loss : 0.7427828241586685\n",
            "Epoch 50/100 , Loss : 0.7366600443124771\n",
            "Epoch 51/100 , Loss : 0.7309065917730332\n",
            "Epoch 52/100 , Loss : 0.7256962541341782\n",
            "Epoch 53/100 , Loss : 0.7203708750009536\n",
            "Epoch 54/100 , Loss : 0.7151285072565079\n",
            "Epoch 55/100 , Loss : 0.7099920524358749\n",
            "Epoch 56/100 , Loss : 0.7049361287355423\n",
            "Epoch 57/100 , Loss : 0.7001992349624634\n",
            "Epoch 58/100 , Loss : 0.6954877161979676\n",
            "Epoch 59/100 , Loss : 0.6906742298603058\n",
            "Epoch 60/100 , Loss : 0.6865978499650955\n",
            "Epoch 61/100 , Loss : 0.6817318170070649\n",
            "Epoch 62/100 , Loss : 0.6770469789505005\n",
            "Epoch 63/100 , Loss : 0.6732413113117218\n",
            "Epoch 64/100 , Loss : 0.6684262322187424\n",
            "Epoch 65/100 , Loss : 0.6651383867263794\n",
            "Epoch 66/100 , Loss : 0.6612116833925247\n",
            "Epoch 67/100 , Loss : 0.6568608317375183\n",
            "Epoch 68/100 , Loss : 0.6530013720989227\n",
            "Epoch 69/100 , Loss : 0.6489559826850891\n",
            "Epoch 70/100 , Loss : 0.645454409956932\n",
            "Epoch 71/100 , Loss : 0.6417625715732574\n",
            "Epoch 72/100 , Loss : 0.6382039312124252\n",
            "Epoch 73/100 , Loss : 0.6350288907289505\n",
            "Epoch 74/100 , Loss : 0.6313998556137085\n",
            "Epoch 75/100 , Loss : 0.6279691087007523\n",
            "Epoch 76/100 , Loss : 0.6247080332040786\n",
            "Epoch 77/100 , Loss : 0.621390321969986\n",
            "Epoch 78/100 , Loss : 0.6177441350221634\n",
            "Epoch 79/100 , Loss : 0.6144825849533081\n",
            "Epoch 80/100 , Loss : 0.6114528061151504\n",
            "Epoch 81/100 , Loss : 0.6083559188842773\n",
            "Epoch 82/100 , Loss : 0.6052692563533782\n",
            "Epoch 83/100 , Loss : 0.603037029504776\n",
            "Epoch 84/100 , Loss : 0.5999848618507385\n",
            "Epoch 85/100 , Loss : 0.5972180860042572\n",
            "Epoch 86/100 , Loss : 0.5941465509533882\n",
            "Epoch 87/100 , Loss : 0.5912912392616272\n",
            "Epoch 88/100 , Loss : 0.5886336674690247\n",
            "Epoch 89/100 , Loss : 0.5862341368198395\n",
            "Epoch 90/100 , Loss : 0.5829178847074509\n",
            "Epoch 91/100 , Loss : 0.5813355269432068\n",
            "Epoch 92/100 , Loss : 0.5784909483194351\n",
            "Epoch 93/100 , Loss : 0.57560810816288\n",
            "Epoch 94/100 , Loss : 0.5730635435581207\n",
            "Epoch 95/100 , Loss : 0.5708927071094513\n",
            "Epoch 96/100 , Loss : 0.5686147409677506\n",
            "Epoch 97/100 , Loss : 0.5665565329790115\n",
            "Epoch 98/100 , Loss : 0.5642661327123641\n",
            "Epoch 99/100 , Loss : 0.5621086130142212\n",
            "Epoch 100/100 , Loss : 0.5596868430376053\n"
          ]
        }
      ],
      "source": [
        "#training loop\n",
        "\n",
        "for epoch in range(epochs):\n",
        "  total_epoch_loss = 0\n",
        "  for batch_features , batch_labels in train_loader:\n",
        "    #forward pass\n",
        "    output = model(batch_features)\n",
        "\n",
        "    #calculate loss\n",
        "    loss = criterion(output , batch_labels)\n",
        "\n",
        "    #backward pass\n",
        "    optimizer.zero_grad()\n",
        "    loss.backward()\n",
        "\n",
        "    #update weights\n",
        "    optimizer.step()\n",
        "\n",
        "    total_epoch_loss = total_epoch_loss + loss.item()\n",
        "  avg_loss = total_epoch_loss/len(train_loader)\n",
        "  print(f\"Epoch {epoch+1}/{epochs} , Loss : {avg_loss}\")"
      ]
    },
    {
      "cell_type": "code",
      "execution_count": null,
      "metadata": {
        "colab": {
          "base_uri": "https://localhost:8080/"
        },
        "id": "jfJCD0d01VHS",
        "outputId": "81bb11fa-95f5-4bc5-aa46-b15e1d66c457"
      },
      "outputs": [
        {
          "data": {
            "text/plain": [
              "MyNN(\n",
              "  (model): Sequential(\n",
              "    (0): Linear(in_features=784, out_features=128, bias=True)\n",
              "    (1): ReLU()\n",
              "    (2): Linear(in_features=128, out_features=64, bias=True)\n",
              "    (3): ReLU()\n",
              "    (4): Linear(in_features=64, out_features=10, bias=True)\n",
              "  )\n",
              ")"
            ]
          },
          "execution_count": 46,
          "metadata": {},
          "output_type": "execute_result"
        }
      ],
      "source": [
        "#set model to eval mode\n",
        "\n",
        "model.eval()"
      ]
    },
    {
      "cell_type": "code",
      "execution_count": null,
      "metadata": {
        "colab": {
          "base_uri": "https://localhost:8080/"
        },
        "id": "oRJRuSrhENXk",
        "outputId": "9c4ee4ca-4e46-48f4-f0f5-304c68946226"
      },
      "outputs": [
        {
          "name": "stdout",
          "output_type": "stream",
          "text": [
            "0.819\n"
          ]
        }
      ],
      "source": [
        "#evaluation code\n",
        "\n",
        "total =0\n",
        "correct = 0\n",
        "\n",
        "with torch.no_grad():\n",
        "  for batch_features , batch_labels in test_loader:\n",
        "\n",
        "    output = model(batch_features)\n",
        "\n",
        "    _,predicted = torch.max(output.data , 1)\n",
        "\n",
        "    total += batch_labels.shape[0]\n",
        "    correct += (predicted == batch_labels).sum().item()\n",
        "print(correct/total)"
      ]
    },
    {
      "cell_type": "code",
      "execution_count": null,
      "metadata": {
        "id": "1cOe4MXHIQAt"
      },
      "outputs": [],
      "source": []
    }
  ],
  "metadata": {
    "accelerator": "GPU",
    "colab": {
      "authorship_tag": "ABX9TyO7XqD68LAvoACaB9wnhj8t",
      "gpuType": "T4",
      "include_colab_link": true,
      "mount_file_id": "1Ql7g3ocN6bxsrDMKbhxc7ujhEz8kq9qm",
      "provenance": []
    },
    "kernelspec": {
      "display_name": "Python 3",
      "name": "python3"
    },
    "language_info": {
      "name": "python"
    }
  },
  "nbformat": 4,
  "nbformat_minor": 0
}
