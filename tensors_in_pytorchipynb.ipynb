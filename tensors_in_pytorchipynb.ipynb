{
  "nbformat": 4,
  "nbformat_minor": 0,
  "metadata": {
    "colab": {
      "provenance": [],
      "gpuType": "T4",
      "mount_file_id": "1dbadbhf1Og2CnkUDQHjnWM894zwzE4iK",
      "authorship_tag": "ABX9TyMKXIbpkcCMYTaUP+j+E6p9",
      "include_colab_link": true
    },
    "kernelspec": {
      "name": "python3",
      "display_name": "Python 3"
    },
    "language_info": {
      "name": "python"
    },
    "accelerator": "GPU"
  },
  "cells": [
    {
      "cell_type": "markdown",
      "metadata": {
        "id": "view-in-github",
        "colab_type": "text"
      },
      "source": [
        "<a href=\"https://colab.research.google.com/github/avishank-dwivedi/Pytorch-Framework/blob/main/tensors_in_pytorchipynb.ipynb\" target=\"_parent\"><img src=\"https://colab.research.google.com/assets/colab-badge.svg\" alt=\"Open In Colab\"/></a>"
      ]
    },
    {
      "cell_type": "markdown",
      "source": [
        "what is tensor\n",
        "\n",
        "tensor is a mathematical object that can be thought of as a generalization of scalars, vectors, and matrices. In the context of machine learning and deep learning, tensors are the fundamentaldata structures used to represent data and parameters.\n"
      ],
      "metadata": {
        "id": "BmtqIejh6Y0U"
      }
    },
    {
      "cell_type": "markdown",
      "source": [
        "Scalar: A single number (e.g., 5). This can be considered a 0-dimensional tensor.\n",
        "\n",
        "Vector: A 1-dimensional array of numbers (e.g., [1, 2, 3]). This is a 1-dimensional tensor.\n",
        "\n",
        "Matrix: A 2-dimensional array of numbers (e.g., [[1, 2], [3, 4]]). This is a 2-dimensional tensor.\n",
        "\n",
        "Higher-dimensional tensors: Arrays with more than two dimensions (e.g., a 3D array representing an image with height, width, and color channels)."
      ],
      "metadata": {
        "id": "DEowQj1P6Y3y"
      }
    },
    {
      "cell_type": "code",
      "source": [
        "import torch\n",
        "print(torch.__version__)"
      ],
      "metadata": {
        "colab": {
          "base_uri": "https://localhost:8080/"
        },
        "id": "uI7ovz_u-YFo",
        "outputId": "5928c321-ce88-4d65-bd1c-ee2eeddb1385"
      },
      "execution_count": null,
      "outputs": [
        {
          "output_type": "stream",
          "name": "stdout",
          "text": [
            "2.6.0+cu124\n"
          ]
        }
      ]
    },
    {
      "cell_type": "code",
      "source": [
        "if torch.cuda.is_available():\n",
        "    print(\"GPU is available\")\n",
        "    print(f\"using  GPU{torch.cuda.get_device_name(0)}\")\n",
        "else:\n",
        "    print(\"GPU is not available\")\n"
      ],
      "metadata": {
        "colab": {
          "base_uri": "https://localhost:8080/"
        },
        "id": "wEgYPC4h-en-",
        "outputId": "37f39164-c76b-46fe-d7d8-59544276da0e"
      },
      "execution_count": null,
      "outputs": [
        {
          "output_type": "stream",
          "name": "stdout",
          "text": [
            "GPU is available\n",
            "using  GPUTesla T4\n"
          ]
        }
      ]
    },
    {
      "cell_type": "markdown",
      "source": [
        "Create a Tensor\n"
      ],
      "metadata": {
        "id": "DIEbBt2NAw8j"
      }
    },
    {
      "cell_type": "code",
      "source": [
        "\n",
        "a=torch.empty(2,3)"
      ],
      "metadata": {
        "id": "9t-qCcgpA3_I"
      },
      "execution_count": null,
      "outputs": []
    },
    {
      "cell_type": "code",
      "source": [
        "type(a)"
      ],
      "metadata": {
        "colab": {
          "base_uri": "https://localhost:8080/"
        },
        "id": "ljQPfMKkBAfB",
        "outputId": "f24f4dd8-7ea8-4427-8f42-34806be9cd75"
      },
      "execution_count": null,
      "outputs": [
        {
          "output_type": "execute_result",
          "data": {
            "text/plain": [
              "torch.Tensor"
            ]
          },
          "metadata": {},
          "execution_count": 6
        }
      ]
    },
    {
      "cell_type": "code",
      "source": [
        "torch.zeros(2,3)"
      ],
      "metadata": {
        "colab": {
          "base_uri": "https://localhost:8080/"
        },
        "id": "-tTn4RAYBLDo",
        "outputId": "f9db2946-6257-417a-b5b8-2b4f191de25f"
      },
      "execution_count": null,
      "outputs": [
        {
          "output_type": "execute_result",
          "data": {
            "text/plain": [
              "tensor([[0., 0., 0.],\n",
              "        [0., 0., 0.]])"
            ]
          },
          "metadata": {},
          "execution_count": 7
        }
      ]
    },
    {
      "cell_type": "code",
      "source": [
        "#usin rand4\n",
        "\n",
        "torch.rand(2,3)"
      ],
      "metadata": {
        "colab": {
          "base_uri": "https://localhost:8080/"
        },
        "id": "gNh5XB-2Bf4S",
        "outputId": "986acc5f-9228-45ee-a2ed-efb939ee7266"
      },
      "execution_count": null,
      "outputs": [
        {
          "output_type": "execute_result",
          "data": {
            "text/plain": [
              "tensor([[0.5263, 0.9767, 0.2792],\n",
              "        [0.1332, 0.1519, 0.2049]])"
            ]
          },
          "metadata": {},
          "execution_count": 8
        }
      ]
    },
    {
      "cell_type": "code",
      "source": [
        "#using seed\n",
        "torch.manual_seed(1729)\n",
        "torch.rand(2,3)\n"
      ],
      "metadata": {
        "colab": {
          "base_uri": "https://localhost:8080/"
        },
        "id": "Lvs3LL_sBkRb",
        "outputId": "ec886a4d-74cf-4819-b9a2-a4ddfc7c66a8"
      },
      "execution_count": null,
      "outputs": [
        {
          "output_type": "execute_result",
          "data": {
            "text/plain": [
              "tensor([[0.3126, 0.3791, 0.3087],\n",
              "        [0.0736, 0.4216, 0.0691]])"
            ]
          },
          "metadata": {},
          "execution_count": 9
        }
      ]
    },
    {
      "cell_type": "code",
      "source": [
        "#using tensors\n",
        "\n",
        "torch.tensor([[1,2],[3,4]])"
      ],
      "metadata": {
        "colab": {
          "base_uri": "https://localhost:8080/"
        },
        "id": "oRHhJUiFCAGz",
        "outputId": "1f7e8997-9ab0-464c-dae2-22cf03e25186"
      },
      "execution_count": null,
      "outputs": [
        {
          "output_type": "execute_result",
          "data": {
            "text/plain": [
              "tensor([[1, 2],\n",
              "        [3, 4]])"
            ]
          },
          "metadata": {},
          "execution_count": 10
        }
      ]
    },
    {
      "cell_type": "code",
      "source": [
        "#arange\n",
        "print(\"using arange->\", torch.arange(0,10,2))\n",
        "\n",
        "#using linespace\n",
        "print(\"using linespace ->\", torch.linspace(0,10,10))\n",
        "\n",
        "#using eye\n",
        "print(\"using eye-> \" , torch.eye(5))\n",
        "\n",
        "# using full\n",
        "print(\"using full ->\", torch.full((3,3), 5))"
      ],
      "metadata": {
        "colab": {
          "base_uri": "https://localhost:8080/"
        },
        "id": "HW-3-ug1Q4c1",
        "outputId": "84bf82fb-38a4-4386-8650-3c9f4b4c5b6e"
      },
      "execution_count": null,
      "outputs": [
        {
          "output_type": "stream",
          "name": "stdout",
          "text": [
            "using arange-> tensor([0, 2, 4, 6, 8])\n",
            "using linespace -> tensor([ 0.0000,  1.1111,  2.2222,  3.3333,  4.4444,  5.5556,  6.6667,  7.7778,\n",
            "         8.8889, 10.0000])\n",
            "using eye->  tensor([[1., 0., 0., 0., 0.],\n",
            "        [0., 1., 0., 0., 0.],\n",
            "        [0., 0., 1., 0., 0.],\n",
            "        [0., 0., 0., 1., 0.],\n",
            "        [0., 0., 0., 0., 1.]])\n",
            "using full -> tensor([[5, 5, 5],\n",
            "        [5, 5, 5],\n",
            "        [5, 5, 5]])\n"
          ]
        }
      ]
    },
    {
      "cell_type": "code",
      "source": [
        "# prompt: Tensor shape\n",
        "\n",
        "x = torch.tensor([[1,2,3],[4,5,6]])\n",
        "x"
      ],
      "metadata": {
        "id": "ZI8XM0BER4fl",
        "colab": {
          "base_uri": "https://localhost:8080/"
        },
        "outputId": "69e65d21-5605-4e18-d49a-bf5276f3b320"
      },
      "execution_count": null,
      "outputs": [
        {
          "output_type": "execute_result",
          "data": {
            "text/plain": [
              "tensor([[1, 2, 3],\n",
              "        [4, 5, 6]])"
            ]
          },
          "metadata": {},
          "execution_count": 12
        }
      ]
    },
    {
      "cell_type": "code",
      "source": [
        "x.shape"
      ],
      "metadata": {
        "colab": {
          "base_uri": "https://localhost:8080/"
        },
        "id": "QfBR7CkZIYqN",
        "outputId": "ab8879c5-e659-4959-80b2-fcb4acd09680"
      },
      "execution_count": null,
      "outputs": [
        {
          "output_type": "execute_result",
          "data": {
            "text/plain": [
              "torch.Size([2, 3])"
            ]
          },
          "metadata": {},
          "execution_count": 13
        }
      ]
    },
    {
      "cell_type": "code",
      "source": [
        "torch.empty_like(x)"
      ],
      "metadata": {
        "colab": {
          "base_uri": "https://localhost:8080/"
        },
        "id": "F0ZN4xIbIbFc",
        "outputId": "6e398644-14b7-4a8a-f63b-bec6d962291b"
      },
      "execution_count": null,
      "outputs": [
        {
          "output_type": "execute_result",
          "data": {
            "text/plain": [
              "tensor([[   96,    96, 70228],\n",
              "        [   36,     0,     0]])"
            ]
          },
          "metadata": {},
          "execution_count": 14
        }
      ]
    },
    {
      "cell_type": "code",
      "source": [
        "torch.zeros_like(x)"
      ],
      "metadata": {
        "colab": {
          "base_uri": "https://localhost:8080/"
        },
        "id": "b3nvkCoBI2qY",
        "outputId": "1322d40f-4b91-49fb-fad4-61f9ec0835fd"
      },
      "execution_count": null,
      "outputs": [
        {
          "output_type": "execute_result",
          "data": {
            "text/plain": [
              "tensor([[0, 0, 0],\n",
              "        [0, 0, 0]])"
            ]
          },
          "metadata": {},
          "execution_count": 15
        }
      ]
    },
    {
      "cell_type": "code",
      "source": [
        "torch.ones_like(x)"
      ],
      "metadata": {
        "colab": {
          "base_uri": "https://localhost:8080/"
        },
        "id": "MhaBsP7oJH9B",
        "outputId": "de94ed92-859e-4847-cab2-d178cb5de7b5"
      },
      "execution_count": null,
      "outputs": [
        {
          "output_type": "execute_result",
          "data": {
            "text/plain": [
              "tensor([[1, 1, 1],\n",
              "        [1, 1, 1]])"
            ]
          },
          "metadata": {},
          "execution_count": 16
        }
      ]
    },
    {
      "cell_type": "code",
      "source": [
        "torch.rand_like(x , dtype=torch.float32)"
      ],
      "metadata": {
        "colab": {
          "base_uri": "https://localhost:8080/"
        },
        "id": "5gAy66uQbAIq",
        "outputId": "edd98134-2c3d-48e7-8248-911b2124ed1f"
      },
      "execution_count": null,
      "outputs": [
        {
          "output_type": "execute_result",
          "data": {
            "text/plain": [
              "tensor([[0.2332, 0.4047, 0.2162],\n",
              "        [0.9927, 0.4128, 0.5938]])"
            ]
          },
          "metadata": {},
          "execution_count": 17
        }
      ]
    },
    {
      "cell_type": "markdown",
      "source": [
        "tensor datatypes"
      ],
      "metadata": {
        "id": "muhQKvyfJxRu"
      }
    },
    {
      "cell_type": "code",
      "source": [
        "x.dtype"
      ],
      "metadata": {
        "colab": {
          "base_uri": "https://localhost:8080/"
        },
        "id": "eIKvhWQiJ0NS",
        "outputId": "777c8143-ecee-4d61-9ca1-925f74e817e8"
      },
      "execution_count": null,
      "outputs": [
        {
          "output_type": "execute_result",
          "data": {
            "text/plain": [
              "torch.int64"
            ]
          },
          "metadata": {},
          "execution_count": 18
        }
      ]
    },
    {
      "cell_type": "code",
      "source": [
        "torch.tensor([1.0,2.0,3.0] ,dtype=torch.int32)"
      ],
      "metadata": {
        "colab": {
          "base_uri": "https://localhost:8080/"
        },
        "id": "f7N2PqYJJ4sa",
        "outputId": "f548ac3a-54ea-4170-9d6d-fcf15ba5134c"
      },
      "execution_count": null,
      "outputs": [
        {
          "output_type": "execute_result",
          "data": {
            "text/plain": [
              "tensor([1, 2, 3], dtype=torch.int32)"
            ]
          },
          "metadata": {},
          "execution_count": 19
        }
      ]
    },
    {
      "cell_type": "code",
      "source": [
        "torch.tensor([1,2,3],dtype=torch.float64)"
      ],
      "metadata": {
        "colab": {
          "base_uri": "https://localhost:8080/"
        },
        "id": "LxMyHCqIKV9q",
        "outputId": "de978998-9483-4e51-a2ef-4a2085a98181"
      },
      "execution_count": null,
      "outputs": [
        {
          "output_type": "execute_result",
          "data": {
            "text/plain": [
              "tensor([1., 2., 3.], dtype=torch.float64)"
            ]
          },
          "metadata": {},
          "execution_count": 20
        }
      ]
    },
    {
      "cell_type": "code",
      "source": [
        "#using to() to change dtype\n",
        "x.to()"
      ],
      "metadata": {
        "colab": {
          "base_uri": "https://localhost:8080/"
        },
        "id": "t7JCpewOabZs",
        "outputId": "e0f0f400-1d66-43ad-959b-b0744b4d8a85"
      },
      "execution_count": null,
      "outputs": [
        {
          "output_type": "execute_result",
          "data": {
            "text/plain": [
              "tensor([[1, 2, 3],\n",
              "        [4, 5, 6]])"
            ]
          },
          "metadata": {},
          "execution_count": 21
        }
      ]
    },
    {
      "cell_type": "markdown",
      "source": [
        "Mathematical Operations\n"
      ],
      "metadata": {
        "id": "krnP1Q9KbQyv"
      }
    },
    {
      "cell_type": "markdown",
      "source": [
        "1.scaler operation"
      ],
      "metadata": {
        "id": "A1bGXgB2bX3r"
      }
    },
    {
      "cell_type": "code",
      "source": [
        "x = torch.rand(2,2)\n",
        "x"
      ],
      "metadata": {
        "colab": {
          "base_uri": "https://localhost:8080/"
        },
        "id": "-b48Gb2EaoKR",
        "outputId": "d346fabd-11d3-4111-da98-29b18ad18694"
      },
      "execution_count": null,
      "outputs": [
        {
          "output_type": "execute_result",
          "data": {
            "text/plain": [
              "tensor([[0.6128, 0.1519],\n",
              "        [0.0453, 0.5035]])"
            ]
          },
          "metadata": {},
          "execution_count": 22
        }
      ]
    },
    {
      "cell_type": "code",
      "source": [
        "#addition\n",
        "\n",
        "x+2"
      ],
      "metadata": {
        "colab": {
          "base_uri": "https://localhost:8080/"
        },
        "id": "L9onBkK0biUq",
        "outputId": "2a4a6d11-e65c-4c9a-a79d-dd3c0bd8187d"
      },
      "execution_count": null,
      "outputs": [
        {
          "output_type": "execute_result",
          "data": {
            "text/plain": [
              "tensor([[2.6128, 2.1519],\n",
              "        [2.0453, 2.5035]])"
            ]
          },
          "metadata": {},
          "execution_count": 23
        }
      ]
    },
    {
      "cell_type": "code",
      "source": [
        "#subbstraction\n",
        "\n",
        "x-2"
      ],
      "metadata": {
        "colab": {
          "base_uri": "https://localhost:8080/"
        },
        "id": "_KIlS1dcbuMs",
        "outputId": "36257d82-eb71-4ce5-9c14-d7a7b58dbcda"
      },
      "execution_count": null,
      "outputs": [
        {
          "output_type": "execute_result",
          "data": {
            "text/plain": [
              "tensor([[-1.3872, -1.8481],\n",
              "        [-1.9547, -1.4965]])"
            ]
          },
          "metadata": {},
          "execution_count": 24
        }
      ]
    },
    {
      "cell_type": "code",
      "source": [
        "#multiplication\n",
        "x*3"
      ],
      "metadata": {
        "colab": {
          "base_uri": "https://localhost:8080/"
        },
        "id": "ueM6bXsoby33",
        "outputId": "42daa2a1-5ebf-4a0d-f2ea-9ae816a0618a"
      },
      "execution_count": null,
      "outputs": [
        {
          "output_type": "execute_result",
          "data": {
            "text/plain": [
              "tensor([[1.8383, 0.4558],\n",
              "        [0.1360, 1.5105]])"
            ]
          },
          "metadata": {},
          "execution_count": 25
        }
      ]
    },
    {
      "cell_type": "code",
      "source": [
        "#division\n",
        "x / 3"
      ],
      "metadata": {
        "colab": {
          "base_uri": "https://localhost:8080/"
        },
        "id": "yCfe6RLyb2nV",
        "outputId": "623fc119-7d6f-4dd5-8f50-188912f66b2e"
      },
      "execution_count": null,
      "outputs": [
        {
          "output_type": "execute_result",
          "data": {
            "text/plain": [
              "tensor([[0.2043, 0.0506],\n",
              "        [0.0151, 0.1678]])"
            ]
          },
          "metadata": {},
          "execution_count": 26
        }
      ]
    },
    {
      "cell_type": "code",
      "source": [
        "# int division\n",
        "(x * 100)//3"
      ],
      "metadata": {
        "colab": {
          "base_uri": "https://localhost:8080/"
        },
        "id": "aGWXKnAfb5_p",
        "outputId": "a5a64873-3274-4c46-e1c0-c136c9fdc81e"
      },
      "execution_count": null,
      "outputs": [
        {
          "output_type": "execute_result",
          "data": {
            "text/plain": [
              "tensor([[20.,  5.],\n",
              "        [ 1., 16.]])"
            ]
          },
          "metadata": {},
          "execution_count": 27
        }
      ]
    },
    {
      "cell_type": "code",
      "source": [
        "#mod\n",
        "((x * 100)//3)%2"
      ],
      "metadata": {
        "colab": {
          "base_uri": "https://localhost:8080/"
        },
        "id": "TS7iy2JgcCff",
        "outputId": "f6a81127-6561-49ef-cc13-1b92d1ef0dfb"
      },
      "execution_count": null,
      "outputs": [
        {
          "output_type": "execute_result",
          "data": {
            "text/plain": [
              "tensor([[0., 1.],\n",
              "        [1., 0.]])"
            ]
          },
          "metadata": {},
          "execution_count": 28
        }
      ]
    },
    {
      "cell_type": "code",
      "source": [
        "x**2"
      ],
      "metadata": {
        "colab": {
          "base_uri": "https://localhost:8080/"
        },
        "id": "k4nYxCmTcMXW",
        "outputId": "769671de-f5b2-4ee2-c0d7-d3c4d7db923f"
      },
      "execution_count": null,
      "outputs": [
        {
          "output_type": "execute_result",
          "data": {
            "text/plain": [
              "tensor([[0.3755, 0.0231],\n",
              "        [0.0021, 0.2535]])"
            ]
          },
          "metadata": {},
          "execution_count": 29
        }
      ]
    },
    {
      "cell_type": "markdown",
      "source": [
        "2.Element wise operations"
      ],
      "metadata": {
        "id": "DhqOx6S6cVcv"
      }
    },
    {
      "cell_type": "code",
      "source": [
        "a = torch.rand(2,3)\n",
        "b = torch.rand(2,3)"
      ],
      "metadata": {
        "id": "lu1cftUFcQOW"
      },
      "execution_count": null,
      "outputs": []
    },
    {
      "cell_type": "code",
      "source": [
        "print(a)\n",
        "print(b)"
      ],
      "metadata": {
        "colab": {
          "base_uri": "https://localhost:8080/"
        },
        "id": "XOVTTmbNchD7",
        "outputId": "4ec1b1be-a633-49bd-c095-94ab95fb2b8d"
      },
      "execution_count": null,
      "outputs": [
        {
          "output_type": "stream",
          "name": "stdout",
          "text": [
            "tensor([[0.9978, 0.3884, 0.6929],\n",
            "        [0.1703, 0.1384, 0.4759]])\n",
            "tensor([[0.7481, 0.0361, 0.5062],\n",
            "        [0.8469, 0.2588, 0.2707]])\n"
          ]
        }
      ]
    },
    {
      "cell_type": "code",
      "source": [
        "# add\n",
        "a + b"
      ],
      "metadata": {
        "colab": {
          "base_uri": "https://localhost:8080/"
        },
        "id": "mHnjratQclua",
        "outputId": "9b695f26-5b33-4a26-f75d-741524859e16"
      },
      "execution_count": null,
      "outputs": [
        {
          "output_type": "execute_result",
          "data": {
            "text/plain": [
              "tensor([[1.7459, 0.4245, 1.1991],\n",
              "        [1.0173, 0.3973, 0.7466]])"
            ]
          },
          "metadata": {},
          "execution_count": 32
        }
      ]
    },
    {
      "cell_type": "code",
      "source": [
        "c = torch.tensor([1,-2,3,-4])"
      ],
      "metadata": {
        "id": "0mToSYrycuHt"
      },
      "execution_count": null,
      "outputs": []
    },
    {
      "cell_type": "code",
      "source": [
        "c"
      ],
      "metadata": {
        "colab": {
          "base_uri": "https://localhost:8080/"
        },
        "id": "zXLADywzdAXU",
        "outputId": "60ef796f-3509-470c-c473-f8fdb2be3ed5"
      },
      "execution_count": null,
      "outputs": [
        {
          "output_type": "execute_result",
          "data": {
            "text/plain": [
              "tensor([ 1, -2,  3, -4])"
            ]
          },
          "metadata": {},
          "execution_count": 34
        }
      ]
    },
    {
      "cell_type": "code",
      "source": [
        "d = torch.tensor([1.9 , 2.3 , 4.6 , 6.4])"
      ],
      "metadata": {
        "id": "GgzEfrTldCCC"
      },
      "execution_count": null,
      "outputs": []
    },
    {
      "cell_type": "code",
      "source": [
        "#round\n",
        "torch.round(d)"
      ],
      "metadata": {
        "colab": {
          "base_uri": "https://localhost:8080/"
        },
        "id": "NZjyoLBddNVH",
        "outputId": "a38670cc-4cf5-4845-c20d-4c9070a12d4c"
      },
      "execution_count": null,
      "outputs": [
        {
          "output_type": "execute_result",
          "data": {
            "text/plain": [
              "tensor([2., 2., 5., 6.])"
            ]
          },
          "metadata": {},
          "execution_count": 36
        }
      ]
    },
    {
      "cell_type": "code",
      "source": [
        "#ceil\n",
        "torch.ceil(d)"
      ],
      "metadata": {
        "colab": {
          "base_uri": "https://localhost:8080/"
        },
        "id": "8kxTDm85dQ44",
        "outputId": "9c89f8e8-5577-4466-d3a7-e67f4f75395b"
      },
      "execution_count": null,
      "outputs": [
        {
          "output_type": "execute_result",
          "data": {
            "text/plain": [
              "tensor([2., 3., 5., 7.])"
            ]
          },
          "metadata": {},
          "execution_count": 37
        }
      ]
    },
    {
      "cell_type": "code",
      "source": [
        "#floor\n",
        "torch.floor(d)"
      ],
      "metadata": {
        "colab": {
          "base_uri": "https://localhost:8080/"
        },
        "id": "A3ogCimBdWsv",
        "outputId": "22416554-1e4f-47fd-88a2-5591d80e70a5"
      },
      "execution_count": null,
      "outputs": [
        {
          "output_type": "execute_result",
          "data": {
            "text/plain": [
              "tensor([1., 2., 4., 6.])"
            ]
          },
          "metadata": {},
          "execution_count": 38
        }
      ]
    },
    {
      "cell_type": "code",
      "source": [
        "#clamp\n",
        "torch.clamp(d,min=2,max=4)"
      ],
      "metadata": {
        "colab": {
          "base_uri": "https://localhost:8080/"
        },
        "id": "mZLIpx2QdZPs",
        "outputId": "10c23e93-ea9c-4fdf-b0fd-9ce23469ce37"
      },
      "execution_count": null,
      "outputs": [
        {
          "output_type": "execute_result",
          "data": {
            "text/plain": [
              "tensor([2.0000, 2.3000, 4.0000, 4.0000])"
            ]
          },
          "metadata": {},
          "execution_count": 39
        }
      ]
    },
    {
      "cell_type": "markdown",
      "source": [
        "3.Reduction Operation"
      ],
      "metadata": {
        "id": "6bpoeDerdul9"
      }
    },
    {
      "cell_type": "code",
      "source": [
        "e = torch.randint(size=(2,3),low=0,high=10)\n",
        "e"
      ],
      "metadata": {
        "colab": {
          "base_uri": "https://localhost:8080/"
        },
        "id": "vIkUwH1RdnKk",
        "outputId": "e7822cbc-0fdf-4149-c14a-5d7486a6eb4c"
      },
      "execution_count": null,
      "outputs": [
        {
          "output_type": "execute_result",
          "data": {
            "text/plain": [
              "tensor([[2, 1, 3],\n",
              "        [2, 7, 4]])"
            ]
          },
          "metadata": {},
          "execution_count": 40
        }
      ]
    },
    {
      "cell_type": "code",
      "source": [
        "# sum\n",
        "torch.sum(e)\n",
        "#sum along columns\n",
        "torch.sum(e,dim=0)\n",
        "#sum along rows\n",
        "torch.sum(e,dim=1)\n"
      ],
      "metadata": {
        "colab": {
          "base_uri": "https://localhost:8080/"
        },
        "id": "TRUrt34Fd4bR",
        "outputId": "263798bb-f1d0-4c42-9fc8-a2b244c9033c"
      },
      "execution_count": null,
      "outputs": [
        {
          "output_type": "execute_result",
          "data": {
            "text/plain": [
              "tensor([ 6, 13])"
            ]
          },
          "metadata": {},
          "execution_count": 41
        }
      ]
    },
    {
      "cell_type": "code",
      "source": [
        " #mean\n",
        "\n",
        "#mean\n",
        "torch.mean(e.float()) # Mean requires floating point tensor\n",
        "torch.mean(e.float(), dim=0)\n",
        "torch.mean(e.float(), dim=1)"
      ],
      "metadata": {
        "colab": {
          "base_uri": "https://localhost:8080/"
        },
        "id": "mNvJr6GEfQAb",
        "outputId": "66e6b131-c717-4007-abff-f3aa071145fc"
      },
      "execution_count": null,
      "outputs": [
        {
          "output_type": "execute_result",
          "data": {
            "text/plain": [
              "tensor([2.0000, 4.3333])"
            ]
          },
          "metadata": {},
          "execution_count": 42
        }
      ]
    },
    {
      "cell_type": "code",
      "source": [
        "\n",
        "\n",
        "#median\n",
        "torch.median(e.float())\n",
        "torch.median(e.float(), dim=0)\n",
        "torch.median(e.float(), dim=1)\n"
      ],
      "metadata": {
        "colab": {
          "base_uri": "https://localhost:8080/"
        },
        "id": "y-3pec6Uf2ND",
        "outputId": "9fed26c2-48d8-45cd-81ba-ae596de6d51d"
      },
      "execution_count": null,
      "outputs": [
        {
          "output_type": "execute_result",
          "data": {
            "text/plain": [
              "torch.return_types.median(\n",
              "values=tensor([2., 4.]),\n",
              "indices=tensor([0, 2]))"
            ]
          },
          "metadata": {},
          "execution_count": 43
        }
      ]
    },
    {
      "cell_type": "code",
      "source": [
        "# max and min\n",
        "torch.max(e)\n",
        "torch.min(e)"
      ],
      "metadata": {
        "colab": {
          "base_uri": "https://localhost:8080/"
        },
        "id": "lavRzmXPf_1C",
        "outputId": "b8e236e6-be5f-4408-f69a-0279892e83e4"
      },
      "execution_count": null,
      "outputs": [
        {
          "output_type": "execute_result",
          "data": {
            "text/plain": [
              "tensor(1)"
            ]
          },
          "metadata": {},
          "execution_count": 44
        }
      ]
    },
    {
      "cell_type": "code",
      "source": [
        "#product\n",
        "torch.prod(e)\n"
      ],
      "metadata": {
        "colab": {
          "base_uri": "https://localhost:8080/"
        },
        "id": "-o46qjyvgADA",
        "outputId": "20d44f88-5df3-44c3-d583-915f210db650"
      },
      "execution_count": null,
      "outputs": [
        {
          "output_type": "execute_result",
          "data": {
            "text/plain": [
              "tensor(336)"
            ]
          },
          "metadata": {},
          "execution_count": 45
        }
      ]
    },
    {
      "cell_type": "code",
      "source": [
        "#standard daviation\n",
        "torch.std(e.float())"
      ],
      "metadata": {
        "colab": {
          "base_uri": "https://localhost:8080/"
        },
        "id": "Kqqoo0KtgAQc",
        "outputId": "9d64058d-4267-420c-c787-8a9ec201c4be"
      },
      "execution_count": null,
      "outputs": [
        {
          "output_type": "execute_result",
          "data": {
            "text/plain": [
              "tensor(2.1370)"
            ]
          },
          "metadata": {},
          "execution_count": 46
        }
      ]
    },
    {
      "cell_type": "code",
      "source": [
        "# variance\n",
        "torch.var(e.float())"
      ],
      "metadata": {
        "colab": {
          "base_uri": "https://localhost:8080/"
        },
        "id": "WchaLvrdgAdn",
        "outputId": "6d5d06c6-128d-435d-a789-340246b47e64"
      },
      "execution_count": null,
      "outputs": [
        {
          "output_type": "execute_result",
          "data": {
            "text/plain": [
              "tensor(4.5667)"
            ]
          },
          "metadata": {},
          "execution_count": 47
        }
      ]
    },
    {
      "cell_type": "code",
      "source": [
        "#argmax\n",
        "\n",
        "torch.argmax(e)\n"
      ],
      "metadata": {
        "colab": {
          "base_uri": "https://localhost:8080/"
        },
        "id": "Pi-_lF7ngXOe",
        "outputId": "8675fdbb-7056-4400-edbc-d0efdfb48321"
      },
      "execution_count": null,
      "outputs": [
        {
          "output_type": "execute_result",
          "data": {
            "text/plain": [
              "tensor(4)"
            ]
          },
          "metadata": {},
          "execution_count": 48
        }
      ]
    },
    {
      "cell_type": "code",
      "source": [
        "#argmin\n",
        "torch.argmin(e)\n"
      ],
      "metadata": {
        "colab": {
          "base_uri": "https://localhost:8080/"
        },
        "id": "qxTk2RQ-g1Vd",
        "outputId": "2d7e7f5d-0953-43b8-8ff4-ed26a103a27d"
      },
      "execution_count": null,
      "outputs": [
        {
          "output_type": "execute_result",
          "data": {
            "text/plain": [
              "tensor(1)"
            ]
          },
          "metadata": {},
          "execution_count": 49
        }
      ]
    },
    {
      "cell_type": "markdown",
      "source": [
        "4. matrix operations"
      ],
      "metadata": {
        "id": "zjm6FoR2g9kY"
      }
    },
    {
      "cell_type": "code",
      "source": [
        "f = torch.randint(size=(2,3),low=0,high=10)\n",
        "g = torch.randint(size=(3,2),low=0,high=10)\n",
        "\n",
        "print(f)\n",
        "print(g)"
      ],
      "metadata": {
        "colab": {
          "base_uri": "https://localhost:8080/"
        },
        "id": "ktf6f6bIhFWQ",
        "outputId": "2c633560-f258-47fc-ae58-3ac2a7bbca5e"
      },
      "execution_count": null,
      "outputs": [
        {
          "output_type": "stream",
          "name": "stdout",
          "text": [
            "tensor([[9, 0, 7],\n",
            "        [5, 7, 3]])\n",
            "tensor([[0, 4],\n",
            "        [0, 1],\n",
            "        [9, 8]])\n"
          ]
        }
      ]
    },
    {
      "cell_type": "code",
      "source": [
        "#matrix multiplication\n",
        "torch.matmul(f,g)"
      ],
      "metadata": {
        "colab": {
          "base_uri": "https://localhost:8080/"
        },
        "id": "Jc1ImY2ThNUY",
        "outputId": "e1606ab2-7a80-42f9-f5c4-19a97e7171ce"
      },
      "execution_count": null,
      "outputs": [
        {
          "output_type": "execute_result",
          "data": {
            "text/plain": [
              "tensor([[63, 92],\n",
              "        [27, 51]])"
            ]
          },
          "metadata": {},
          "execution_count": 51
        }
      ]
    },
    {
      "cell_type": "code",
      "source": [
        "vector1 = torch.tensor([1,2])\n",
        "vector2 = torch.tensor([3,4])\n",
        "\n",
        "#dot product\n",
        "torch.dot(vector1,vector2)"
      ],
      "metadata": {
        "colab": {
          "base_uri": "https://localhost:8080/"
        },
        "id": "cM_T3AFkhdec",
        "outputId": "71d9f578-8a37-479d-bd42-e15950a402c5"
      },
      "execution_count": null,
      "outputs": [
        {
          "output_type": "execute_result",
          "data": {
            "text/plain": [
              "tensor(11)"
            ]
          },
          "metadata": {},
          "execution_count": 52
        }
      ]
    },
    {
      "cell_type": "code",
      "source": [
        "#transpose\n",
        "torch.transpose(f,0,1)"
      ],
      "metadata": {
        "colab": {
          "base_uri": "https://localhost:8080/"
        },
        "id": "X5xXJqaziMBK",
        "outputId": "92f66a62-342d-4bb2-f478-8e8c9a67f2bc"
      },
      "execution_count": null,
      "outputs": [
        {
          "output_type": "execute_result",
          "data": {
            "text/plain": [
              "tensor([[9, 5],\n",
              "        [0, 7],\n",
              "        [7, 3]])"
            ]
          },
          "metadata": {},
          "execution_count": 53
        }
      ]
    },
    {
      "cell_type": "code",
      "source": [
        "h = torch.randint(size=(3,3),low=0,high=10 , dtype=torch.float32)\n",
        "\n",
        "h"
      ],
      "metadata": {
        "colab": {
          "base_uri": "https://localhost:8080/"
        },
        "id": "ZkWZ6cNziiUv",
        "outputId": "de577160-f399-4278-b995-a4cf135b5c6d"
      },
      "execution_count": null,
      "outputs": [
        {
          "output_type": "execute_result",
          "data": {
            "text/plain": [
              "tensor([[6., 7., 4.],\n",
              "        [2., 0., 4.],\n",
              "        [8., 9., 9.]])"
            ]
          },
          "metadata": {},
          "execution_count": 54
        }
      ]
    },
    {
      "cell_type": "code",
      "source": [
        "# determinant\n",
        "torch.det(h)"
      ],
      "metadata": {
        "colab": {
          "base_uri": "https://localhost:8080/"
        },
        "id": "U6VIpbGOiP_j",
        "outputId": "6446e70d-c643-4d19-fba2-eab7aa7c67de"
      },
      "execution_count": null,
      "outputs": [
        {
          "output_type": "execute_result",
          "data": {
            "text/plain": [
              "tensor(-46.0000)"
            ]
          },
          "metadata": {},
          "execution_count": 55
        }
      ]
    },
    {
      "cell_type": "code",
      "source": [
        "#inverse\n",
        "torch.inverse(h)"
      ],
      "metadata": {
        "colab": {
          "base_uri": "https://localhost:8080/"
        },
        "id": "dOYg8zsCia3l",
        "outputId": "891e8cc3-42c6-4d61-edbf-05f134e33018"
      },
      "execution_count": null,
      "outputs": [
        {
          "output_type": "execute_result",
          "data": {
            "text/plain": [
              "tensor([[ 0.7826,  0.5870, -0.6087],\n",
              "        [-0.3043, -0.4783,  0.3478],\n",
              "        [-0.3913, -0.0435,  0.3043]])"
            ]
          },
          "metadata": {},
          "execution_count": 56
        }
      ]
    },
    {
      "cell_type": "markdown",
      "source": [
        "5.comaprision operation"
      ],
      "metadata": {
        "id": "8698UUInjaQy"
      }
    },
    {
      "cell_type": "markdown",
      "source": [
        "6.spacial function"
      ],
      "metadata": {
        "id": "GeqaPRyzj-X-"
      }
    },
    {
      "cell_type": "code",
      "source": [
        "k = torch.randint(size=(2,3),low=0,high=10 , dtype=torch.float32)\n",
        "k"
      ],
      "metadata": {
        "colab": {
          "base_uri": "https://localhost:8080/"
        },
        "id": "GoKzx1_Ljo64",
        "outputId": "43a13eb2-7a98-45e1-c72e-75f7200ddc71"
      },
      "execution_count": null,
      "outputs": [
        {
          "output_type": "execute_result",
          "data": {
            "text/plain": [
              "tensor([[5., 3., 0.],\n",
              "        [3., 7., 2.]])"
            ]
          },
          "metadata": {},
          "execution_count": 57
        }
      ]
    },
    {
      "cell_type": "code",
      "source": [
        "#log\n",
        "torch.log(k)"
      ],
      "metadata": {
        "colab": {
          "base_uri": "https://localhost:8080/"
        },
        "id": "RUdPD46Aj8Q2",
        "outputId": "e04ba08d-f26d-4a85-9131-194152e6897d"
      },
      "execution_count": null,
      "outputs": [
        {
          "output_type": "execute_result",
          "data": {
            "text/plain": [
              "tensor([[1.6094, 1.0986,   -inf],\n",
              "        [1.0986, 1.9459, 0.6931]])"
            ]
          },
          "metadata": {},
          "execution_count": 58
        }
      ]
    },
    {
      "cell_type": "code",
      "source": [
        "#exp\n",
        "torch.exp(k)"
      ],
      "metadata": {
        "colab": {
          "base_uri": "https://localhost:8080/"
        },
        "id": "3ToVi3hjkQlf",
        "outputId": "8c5ff803-2903-4edb-fee3-cf3abae8aa91"
      },
      "execution_count": null,
      "outputs": [
        {
          "output_type": "execute_result",
          "data": {
            "text/plain": [
              "tensor([[1.4841e+02, 2.0086e+01, 1.0000e+00],\n",
              "        [2.0086e+01, 1.0966e+03, 7.3891e+00]])"
            ]
          },
          "metadata": {},
          "execution_count": 59
        }
      ]
    },
    {
      "cell_type": "code",
      "source": [
        "#squere root\n",
        "torch.sqrt(k)"
      ],
      "metadata": {
        "colab": {
          "base_uri": "https://localhost:8080/"
        },
        "id": "gkjznPL5kaZ2",
        "outputId": "05dabe7d-4811-4d48-e556-efb8ecca76d3"
      },
      "execution_count": null,
      "outputs": [
        {
          "output_type": "execute_result",
          "data": {
            "text/plain": [
              "tensor([[2.2361, 1.7321, 0.0000],\n",
              "        [1.7321, 2.6458, 1.4142]])"
            ]
          },
          "metadata": {},
          "execution_count": 60
        }
      ]
    },
    {
      "cell_type": "code",
      "source": [
        "#sigmoid\n",
        "torch.sigmoid(k)"
      ],
      "metadata": {
        "colab": {
          "base_uri": "https://localhost:8080/"
        },
        "id": "leQrmMy7kogO",
        "outputId": "53d9547b-3937-4aef-8410-7dff6dc1d3e9"
      },
      "execution_count": null,
      "outputs": [
        {
          "output_type": "execute_result",
          "data": {
            "text/plain": [
              "tensor([[0.9933, 0.9526, 0.5000],\n",
              "        [0.9526, 0.9991, 0.8808]])"
            ]
          },
          "metadata": {},
          "execution_count": 61
        }
      ]
    },
    {
      "cell_type": "code",
      "source": [
        "#softmax\n",
        "torch.softmax(k,dim=1)"
      ],
      "metadata": {
        "colab": {
          "base_uri": "https://localhost:8080/"
        },
        "id": "JmgVEf7Rks-6",
        "outputId": "57145799-a575-4e56-9e8b-59c3798e46fc"
      },
      "execution_count": null,
      "outputs": [
        {
          "output_type": "execute_result",
          "data": {
            "text/plain": [
              "tensor([[0.8756, 0.1185, 0.0059],\n",
              "        [0.0179, 0.9756, 0.0066]])"
            ]
          },
          "metadata": {},
          "execution_count": 62
        }
      ]
    },
    {
      "cell_type": "code",
      "source": [
        "#relu\n",
        "torch.relu(k)"
      ],
      "metadata": {
        "colab": {
          "base_uri": "https://localhost:8080/"
        },
        "id": "92w_JXFOk50h",
        "outputId": "80d09c96-8d91-4ab9-8fe0-8b14640f50a5"
      },
      "execution_count": null,
      "outputs": [
        {
          "output_type": "execute_result",
          "data": {
            "text/plain": [
              "tensor([[5., 3., 0.],\n",
              "        [3., 7., 2.]])"
            ]
          },
          "metadata": {},
          "execution_count": 63
        }
      ]
    },
    {
      "cell_type": "markdown",
      "source": [
        "Inplace Operations"
      ],
      "metadata": {
        "id": "TtCEC0IWlgTQ"
      }
    },
    {
      "cell_type": "code",
      "source": [
        "m = torch.rand(2,3)\n",
        "n = torch.rand(2,3)\n",
        "print(m)\n",
        "print(n)"
      ],
      "metadata": {
        "colab": {
          "base_uri": "https://localhost:8080/"
        },
        "id": "uRxhil9klesl",
        "outputId": "4602fb76-3f01-4892-c87c-b13b9b95325f"
      },
      "execution_count": null,
      "outputs": [
        {
          "output_type": "stream",
          "name": "stdout",
          "text": [
            "tensor([[0.8217, 0.2612, 0.7375],\n",
            "        [0.8328, 0.8444, 0.2941]])\n",
            "tensor([[0.3788, 0.4567, 0.0649],\n",
            "        [0.6677, 0.7826, 0.1332]])\n"
          ]
        }
      ]
    },
    {
      "cell_type": "code",
      "source": [
        "m.add_(n)"
      ],
      "metadata": {
        "colab": {
          "base_uri": "https://localhost:8080/"
        },
        "id": "dHEnrAdSmVWv",
        "outputId": "a05ef7b5-63ab-4891-a736-a1f5f9108f3f"
      },
      "execution_count": null,
      "outputs": [
        {
          "output_type": "execute_result",
          "data": {
            "text/plain": [
              "tensor([[1.2005, 0.7179, 0.8024],\n",
              "        [1.5006, 1.6270, 0.4272]])"
            ]
          },
          "metadata": {},
          "execution_count": 65
        }
      ]
    },
    {
      "cell_type": "code",
      "source": [
        "m"
      ],
      "metadata": {
        "colab": {
          "base_uri": "https://localhost:8080/"
        },
        "id": "m2efiDjNma9Z",
        "outputId": "282eda9a-bd79-4fc5-9d72-971be92d534a"
      },
      "execution_count": null,
      "outputs": [
        {
          "output_type": "execute_result",
          "data": {
            "text/plain": [
              "tensor([[1.2005, 0.7179, 0.8024],\n",
              "        [1.5006, 1.6270, 0.4272]])"
            ]
          },
          "metadata": {},
          "execution_count": 66
        }
      ]
    },
    {
      "cell_type": "code",
      "source": [
        "n"
      ],
      "metadata": {
        "colab": {
          "base_uri": "https://localhost:8080/"
        },
        "id": "UrD8A7B4meIH",
        "outputId": "878b59d4-edd4-497c-f7d4-b649b493061b"
      },
      "execution_count": null,
      "outputs": [
        {
          "output_type": "execute_result",
          "data": {
            "text/plain": [
              "tensor([[0.3788, 0.4567, 0.0649],\n",
              "        [0.6677, 0.7826, 0.1332]])"
            ]
          },
          "metadata": {},
          "execution_count": 67
        }
      ]
    },
    {
      "cell_type": "code",
      "source": [
        "torch.relu(m)"
      ],
      "metadata": {
        "colab": {
          "base_uri": "https://localhost:8080/"
        },
        "id": "NBUxySyfmnzL",
        "outputId": "b9d1390a-e043-4ee3-9b7b-d9627be8c7fc"
      },
      "execution_count": null,
      "outputs": [
        {
          "output_type": "execute_result",
          "data": {
            "text/plain": [
              "tensor([[1.2005, 0.7179, 0.8024],\n",
              "        [1.5006, 1.6270, 0.4272]])"
            ]
          },
          "metadata": {},
          "execution_count": 68
        }
      ]
    },
    {
      "cell_type": "markdown",
      "source": [
        "Copying a Tensor\n"
      ],
      "metadata": {
        "id": "bN6omqSKoS-W"
      }
    },
    {
      "cell_type": "code",
      "source": [
        "a = torch.rand(2,3)"
      ],
      "metadata": {
        "id": "BDpk6DZPm7Ze"
      },
      "execution_count": null,
      "outputs": []
    },
    {
      "cell_type": "code",
      "source": [
        "a"
      ],
      "metadata": {
        "colab": {
          "base_uri": "https://localhost:8080/"
        },
        "id": "PhkCDb88oXpF",
        "outputId": "78477f8f-0812-4b75-e20c-3768f33c5594"
      },
      "execution_count": null,
      "outputs": [
        {
          "output_type": "execute_result",
          "data": {
            "text/plain": [
              "tensor([[0.0000, 0.4945, 0.3857],\n",
              "        [0.9883, 0.4762, 0.7242]])"
            ]
          },
          "metadata": {},
          "execution_count": 91
        }
      ]
    },
    {
      "cell_type": "code",
      "source": [
        "b = a"
      ],
      "metadata": {
        "id": "YMEaNsCyoZps"
      },
      "execution_count": null,
      "outputs": []
    },
    {
      "cell_type": "code",
      "source": [
        "b"
      ],
      "metadata": {
        "colab": {
          "base_uri": "https://localhost:8080/"
        },
        "id": "MgaXLcYcobco",
        "outputId": "e7ae32ca-0ac8-45d6-edb7-2fcfbd4b4701"
      },
      "execution_count": null,
      "outputs": [
        {
          "output_type": "execute_result",
          "data": {
            "text/plain": [
              "tensor([[0.0000, 0.4945, 0.3857],\n",
              "        [0.9883, 0.4762, 0.7242]])"
            ]
          },
          "metadata": {},
          "execution_count": 93
        }
      ]
    },
    {
      "cell_type": "code",
      "source": [
        "a[0][0]=0"
      ],
      "metadata": {
        "id": "cq4JVUzSoc01"
      },
      "execution_count": null,
      "outputs": []
    },
    {
      "cell_type": "code",
      "source": [
        "a"
      ],
      "metadata": {
        "colab": {
          "base_uri": "https://localhost:8080/"
        },
        "id": "DXaa6eP9syay",
        "outputId": "11828635-8ab1-4ba0-91e2-c5aefb66e869"
      },
      "execution_count": null,
      "outputs": [
        {
          "output_type": "execute_result",
          "data": {
            "text/plain": [
              "tensor([[0.0000, 0.4945, 0.3857],\n",
              "        [0.9883, 0.4762, 0.7242]])"
            ]
          },
          "metadata": {},
          "execution_count": 95
        }
      ]
    },
    {
      "cell_type": "code",
      "source": [
        "id(a)"
      ],
      "metadata": {
        "colab": {
          "base_uri": "https://localhost:8080/"
        },
        "id": "IQwv10_-tUPL",
        "outputId": "26642d2c-ccf7-412d-814c-d863bb734392"
      },
      "execution_count": null,
      "outputs": [
        {
          "output_type": "execute_result",
          "data": {
            "text/plain": [
              "137828904904528"
            ]
          },
          "metadata": {},
          "execution_count": 96
        }
      ]
    },
    {
      "cell_type": "code",
      "source": [
        "id(b)"
      ],
      "metadata": {
        "colab": {
          "base_uri": "https://localhost:8080/"
        },
        "id": "yu3xugogtWgN",
        "outputId": "bb5c9a55-d8ad-42ce-fd41-985ae9fae8dd"
      },
      "execution_count": null,
      "outputs": [
        {
          "output_type": "execute_result",
          "data": {
            "text/plain": [
              "137828904904528"
            ]
          },
          "metadata": {},
          "execution_count": 97
        }
      ]
    },
    {
      "cell_type": "code",
      "source": [
        "b = a.clone()"
      ],
      "metadata": {
        "id": "hhetk9HatYSG"
      },
      "execution_count": null,
      "outputs": []
    },
    {
      "cell_type": "code",
      "source": [
        "a"
      ],
      "metadata": {
        "colab": {
          "base_uri": "https://localhost:8080/"
        },
        "id": "RnKnHj5FteO-",
        "outputId": "34cc0c31-5441-4790-8af9-1dff763e2b34"
      },
      "execution_count": null,
      "outputs": [
        {
          "output_type": "execute_result",
          "data": {
            "text/plain": [
              "tensor([[0.0000, 0.4945, 0.3857],\n",
              "        [0.9883, 0.4762, 0.7242]])"
            ]
          },
          "metadata": {},
          "execution_count": 99
        }
      ]
    },
    {
      "cell_type": "code",
      "source": [
        "b"
      ],
      "metadata": {
        "colab": {
          "base_uri": "https://localhost:8080/"
        },
        "id": "CaGjQjpAtfEY",
        "outputId": "707fcdb1-cf5e-4dfe-eb18-0c43de8e6f7e"
      },
      "execution_count": null,
      "outputs": [
        {
          "output_type": "execute_result",
          "data": {
            "text/plain": [
              "tensor([[0.0000, 0.4945, 0.3857],\n",
              "        [0.9883, 0.4762, 0.7242]])"
            ]
          },
          "metadata": {},
          "execution_count": 100
        }
      ]
    },
    {
      "cell_type": "code",
      "source": [
        "a[0][0]= 10"
      ],
      "metadata": {
        "id": "J6nuW-jDtirz"
      },
      "execution_count": null,
      "outputs": []
    },
    {
      "cell_type": "code",
      "source": [
        "a"
      ],
      "metadata": {
        "colab": {
          "base_uri": "https://localhost:8080/"
        },
        "id": "WYtzyPF1toyl",
        "outputId": "f9983196-305a-4b0a-f646-acce9821b1f4"
      },
      "execution_count": null,
      "outputs": [
        {
          "output_type": "execute_result",
          "data": {
            "text/plain": [
              "tensor([[10.0000,  0.4945,  0.3857],\n",
              "        [ 0.9883,  0.4762,  0.7242]])"
            ]
          },
          "metadata": {},
          "execution_count": 102
        }
      ]
    },
    {
      "cell_type": "code",
      "source": [
        "b"
      ],
      "metadata": {
        "colab": {
          "base_uri": "https://localhost:8080/"
        },
        "id": "5O0BNpYCtshX",
        "outputId": "40f0262a-bf16-45e1-bbe5-3dda4259b09b"
      },
      "execution_count": null,
      "outputs": [
        {
          "output_type": "execute_result",
          "data": {
            "text/plain": [
              "tensor([[0.0000, 0.4945, 0.3857],\n",
              "        [0.9883, 0.4762, 0.7242]])"
            ]
          },
          "metadata": {},
          "execution_count": 103
        }
      ]
    },
    {
      "cell_type": "code",
      "source": [
        "id(a)"
      ],
      "metadata": {
        "colab": {
          "base_uri": "https://localhost:8080/"
        },
        "id": "dvkm5VYBtwRp",
        "outputId": "9e53a17e-600f-4e16-e5e7-9f67e002a3d5"
      },
      "execution_count": null,
      "outputs": [
        {
          "output_type": "execute_result",
          "data": {
            "text/plain": [
              "137828904904528"
            ]
          },
          "metadata": {},
          "execution_count": 104
        }
      ]
    },
    {
      "cell_type": "code",
      "source": [
        "id(b)"
      ],
      "metadata": {
        "colab": {
          "base_uri": "https://localhost:8080/"
        },
        "id": "DxzeYM79uewH",
        "outputId": "95171511-a258-402b-a54d-4a2e56d8ab28"
      },
      "execution_count": null,
      "outputs": [
        {
          "output_type": "execute_result",
          "data": {
            "text/plain": [
              "137828904889200"
            ]
          },
          "metadata": {},
          "execution_count": 105
        }
      ]
    },
    {
      "cell_type": "code",
      "source": [],
      "metadata": {
        "id": "BZKJ4X2UugAh"
      },
      "execution_count": null,
      "outputs": []
    },
    {
      "cell_type": "markdown",
      "source": [
        "Tensor Operation o Gpu"
      ],
      "metadata": {
        "id": "aM6X3HFMu2Ju"
      }
    },
    {
      "cell_type": "code",
      "source": [
        "torch.cuda.is_available()"
      ],
      "metadata": {
        "colab": {
          "base_uri": "https://localhost:8080/"
        },
        "id": "yw-iRichvBWS",
        "outputId": "f02c4e75-40e4-4a24-ffb1-e1a1797ad9f6"
      },
      "execution_count": null,
      "outputs": [
        {
          "output_type": "execute_result",
          "data": {
            "text/plain": [
              "True"
            ]
          },
          "metadata": {},
          "execution_count": 106
        }
      ]
    },
    {
      "cell_type": "code",
      "source": [
        "device = torch.device('cuda')"
      ],
      "metadata": {
        "id": "IAWz-HVGvIVr"
      },
      "execution_count": null,
      "outputs": []
    },
    {
      "cell_type": "code",
      "source": [],
      "metadata": {
        "id": "7bxA_U66vPZM"
      },
      "execution_count": null,
      "outputs": []
    }
  ]
}