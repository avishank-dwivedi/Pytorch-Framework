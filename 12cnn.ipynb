{
  "nbformat": 4,
  "nbformat_minor": 0,
  "metadata": {
    "colab": {
      "provenance": [],
      "gpuType": "T4",
      "authorship_tag": "ABX9TyOIFf/SRLUm2h5exIdzo+W6",
      "include_colab_link": true
    },
    "kernelspec": {
      "name": "python3",
      "display_name": "Python 3"
    },
    "language_info": {
      "name": "python"
    },
    "accelerator": "GPU"
  },
  "cells": [
    {
      "cell_type": "markdown",
      "metadata": {
        "id": "view-in-github",
        "colab_type": "text"
      },
      "source": [
        "<a href=\"https://colab.research.google.com/github/avishank-dwivedi/Pytorch-Framework/blob/main/11cnn.ipynb\" target=\"_parent\"><img src=\"https://colab.research.google.com/assets/colab-badge.svg\" alt=\"Open In Colab\"/></a>"
      ]
    },
    {
      "cell_type": "code",
      "execution_count": null,
      "metadata": {
        "id": "lu_NsSDUZ4rp"
      },
      "outputs": [],
      "source": [
        "import pandas as pd\n",
        "from sklearn.model_selection import train_test_split\n",
        "import torch\n",
        "import torch.nn as nn\n",
        "import torch.optim as optim\n",
        "from torch.utils.data import DataLoader, TensorDataset, Dataset\n",
        "from sklearn.preprocessing import StandardScaler\n",
        "import matplotlib.pyplot as plt"
      ]
    },
    {
      "cell_type": "code",
      "source": [
        "torch.manual_seed(42)"
      ],
      "metadata": {
        "colab": {
          "base_uri": "https://localhost:8080/"
        },
        "id": "jWOr_MDWk5rk",
        "outputId": "c0da464c-de73-40a6-9825-419e7c1aca15"
      },
      "execution_count": null,
      "outputs": [
        {
          "output_type": "execute_result",
          "data": {
            "text/plain": [
              "<torch._C.Generator at 0x78993cf81fd0>"
            ]
          },
          "metadata": {},
          "execution_count": 2
        }
      ]
    },
    {
      "cell_type": "code",
      "source": [
        "from google.colab import drive\n",
        "\n",
        "\n",
        "# Mount Drive\n",
        "drive.mount('/content/drive')\n",
        "\n",
        "# Read the file (just adjust the path)\n",
        "df = pd.read_csv('/content/drive/MyDrive/Colab Notebooks/pytorch/fashion-mnist_train.csv')\n",
        "df.head()"
      ],
      "metadata": {
        "id": "_UFMZ0w7k8wE",
        "colab": {
          "base_uri": "https://localhost:8080/",
          "height": 273
        },
        "outputId": "d59d4ca3-c51c-42e7-864b-cc4684575071"
      },
      "execution_count": null,
      "outputs": [
        {
          "output_type": "stream",
          "name": "stdout",
          "text": [
            "Mounted at /content/drive\n"
          ]
        },
        {
          "output_type": "execute_result",
          "data": {
            "text/plain": [
              "   label  pixel1  pixel2  pixel3  pixel4  pixel5  pixel6  pixel7  pixel8  \\\n",
              "0      2       0       0       0       0       0       0       0       0   \n",
              "1      9       0       0       0       0       0       0       0       0   \n",
              "2      6       0       0       0       0       0       0       0       5   \n",
              "3      0       0       0       0       1       2       0       0       0   \n",
              "4      3       0       0       0       0       0       0       0       0   \n",
              "\n",
              "   pixel9  ...  pixel775  pixel776  pixel777  pixel778  pixel779  pixel780  \\\n",
              "0       0  ...         0         0         0         0         0         0   \n",
              "1       0  ...         0         0         0         0         0         0   \n",
              "2       0  ...         0         0         0        30        43         0   \n",
              "3       0  ...         3         0         0         0         0         1   \n",
              "4       0  ...         0         0         0         0         0         0   \n",
              "\n",
              "   pixel781  pixel782  pixel783  pixel784  \n",
              "0         0         0         0         0  \n",
              "1         0         0         0         0  \n",
              "2         0         0         0         0  \n",
              "3         0         0         0         0  \n",
              "4         0         0         0         0  \n",
              "\n",
              "[5 rows x 785 columns]"
            ],
            "text/html": [
              "\n",
              "  <div id=\"df-33c75a3b-0de9-4190-aa23-639dac75efa6\" class=\"colab-df-container\">\n",
              "    <div>\n",
              "<style scoped>\n",
              "    .dataframe tbody tr th:only-of-type {\n",
              "        vertical-align: middle;\n",
              "    }\n",
              "\n",
              "    .dataframe tbody tr th {\n",
              "        vertical-align: top;\n",
              "    }\n",
              "\n",
              "    .dataframe thead th {\n",
              "        text-align: right;\n",
              "    }\n",
              "</style>\n",
              "<table border=\"1\" class=\"dataframe\">\n",
              "  <thead>\n",
              "    <tr style=\"text-align: right;\">\n",
              "      <th></th>\n",
              "      <th>label</th>\n",
              "      <th>pixel1</th>\n",
              "      <th>pixel2</th>\n",
              "      <th>pixel3</th>\n",
              "      <th>pixel4</th>\n",
              "      <th>pixel5</th>\n",
              "      <th>pixel6</th>\n",
              "      <th>pixel7</th>\n",
              "      <th>pixel8</th>\n",
              "      <th>pixel9</th>\n",
              "      <th>...</th>\n",
              "      <th>pixel775</th>\n",
              "      <th>pixel776</th>\n",
              "      <th>pixel777</th>\n",
              "      <th>pixel778</th>\n",
              "      <th>pixel779</th>\n",
              "      <th>pixel780</th>\n",
              "      <th>pixel781</th>\n",
              "      <th>pixel782</th>\n",
              "      <th>pixel783</th>\n",
              "      <th>pixel784</th>\n",
              "    </tr>\n",
              "  </thead>\n",
              "  <tbody>\n",
              "    <tr>\n",
              "      <th>0</th>\n",
              "      <td>2</td>\n",
              "      <td>0</td>\n",
              "      <td>0</td>\n",
              "      <td>0</td>\n",
              "      <td>0</td>\n",
              "      <td>0</td>\n",
              "      <td>0</td>\n",
              "      <td>0</td>\n",
              "      <td>0</td>\n",
              "      <td>0</td>\n",
              "      <td>...</td>\n",
              "      <td>0</td>\n",
              "      <td>0</td>\n",
              "      <td>0</td>\n",
              "      <td>0</td>\n",
              "      <td>0</td>\n",
              "      <td>0</td>\n",
              "      <td>0</td>\n",
              "      <td>0</td>\n",
              "      <td>0</td>\n",
              "      <td>0</td>\n",
              "    </tr>\n",
              "    <tr>\n",
              "      <th>1</th>\n",
              "      <td>9</td>\n",
              "      <td>0</td>\n",
              "      <td>0</td>\n",
              "      <td>0</td>\n",
              "      <td>0</td>\n",
              "      <td>0</td>\n",
              "      <td>0</td>\n",
              "      <td>0</td>\n",
              "      <td>0</td>\n",
              "      <td>0</td>\n",
              "      <td>...</td>\n",
              "      <td>0</td>\n",
              "      <td>0</td>\n",
              "      <td>0</td>\n",
              "      <td>0</td>\n",
              "      <td>0</td>\n",
              "      <td>0</td>\n",
              "      <td>0</td>\n",
              "      <td>0</td>\n",
              "      <td>0</td>\n",
              "      <td>0</td>\n",
              "    </tr>\n",
              "    <tr>\n",
              "      <th>2</th>\n",
              "      <td>6</td>\n",
              "      <td>0</td>\n",
              "      <td>0</td>\n",
              "      <td>0</td>\n",
              "      <td>0</td>\n",
              "      <td>0</td>\n",
              "      <td>0</td>\n",
              "      <td>0</td>\n",
              "      <td>5</td>\n",
              "      <td>0</td>\n",
              "      <td>...</td>\n",
              "      <td>0</td>\n",
              "      <td>0</td>\n",
              "      <td>0</td>\n",
              "      <td>30</td>\n",
              "      <td>43</td>\n",
              "      <td>0</td>\n",
              "      <td>0</td>\n",
              "      <td>0</td>\n",
              "      <td>0</td>\n",
              "      <td>0</td>\n",
              "    </tr>\n",
              "    <tr>\n",
              "      <th>3</th>\n",
              "      <td>0</td>\n",
              "      <td>0</td>\n",
              "      <td>0</td>\n",
              "      <td>0</td>\n",
              "      <td>1</td>\n",
              "      <td>2</td>\n",
              "      <td>0</td>\n",
              "      <td>0</td>\n",
              "      <td>0</td>\n",
              "      <td>0</td>\n",
              "      <td>...</td>\n",
              "      <td>3</td>\n",
              "      <td>0</td>\n",
              "      <td>0</td>\n",
              "      <td>0</td>\n",
              "      <td>0</td>\n",
              "      <td>1</td>\n",
              "      <td>0</td>\n",
              "      <td>0</td>\n",
              "      <td>0</td>\n",
              "      <td>0</td>\n",
              "    </tr>\n",
              "    <tr>\n",
              "      <th>4</th>\n",
              "      <td>3</td>\n",
              "      <td>0</td>\n",
              "      <td>0</td>\n",
              "      <td>0</td>\n",
              "      <td>0</td>\n",
              "      <td>0</td>\n",
              "      <td>0</td>\n",
              "      <td>0</td>\n",
              "      <td>0</td>\n",
              "      <td>0</td>\n",
              "      <td>...</td>\n",
              "      <td>0</td>\n",
              "      <td>0</td>\n",
              "      <td>0</td>\n",
              "      <td>0</td>\n",
              "      <td>0</td>\n",
              "      <td>0</td>\n",
              "      <td>0</td>\n",
              "      <td>0</td>\n",
              "      <td>0</td>\n",
              "      <td>0</td>\n",
              "    </tr>\n",
              "  </tbody>\n",
              "</table>\n",
              "<p>5 rows × 785 columns</p>\n",
              "</div>\n",
              "    <div class=\"colab-df-buttons\">\n",
              "\n",
              "  <div class=\"colab-df-container\">\n",
              "    <button class=\"colab-df-convert\" onclick=\"convertToInteractive('df-33c75a3b-0de9-4190-aa23-639dac75efa6')\"\n",
              "            title=\"Convert this dataframe to an interactive table.\"\n",
              "            style=\"display:none;\">\n",
              "\n",
              "  <svg xmlns=\"http://www.w3.org/2000/svg\" height=\"24px\" viewBox=\"0 -960 960 960\">\n",
              "    <path d=\"M120-120v-720h720v720H120Zm60-500h600v-160H180v160Zm220 220h160v-160H400v160Zm0 220h160v-160H400v160ZM180-400h160v-160H180v160Zm440 0h160v-160H620v160ZM180-180h160v-160H180v160Zm440 0h160v-160H620v160Z\"/>\n",
              "  </svg>\n",
              "    </button>\n",
              "\n",
              "  <style>\n",
              "    .colab-df-container {\n",
              "      display:flex;\n",
              "      gap: 12px;\n",
              "    }\n",
              "\n",
              "    .colab-df-convert {\n",
              "      background-color: #E8F0FE;\n",
              "      border: none;\n",
              "      border-radius: 50%;\n",
              "      cursor: pointer;\n",
              "      display: none;\n",
              "      fill: #1967D2;\n",
              "      height: 32px;\n",
              "      padding: 0 0 0 0;\n",
              "      width: 32px;\n",
              "    }\n",
              "\n",
              "    .colab-df-convert:hover {\n",
              "      background-color: #E2EBFA;\n",
              "      box-shadow: 0px 1px 2px rgba(60, 64, 67, 0.3), 0px 1px 3px 1px rgba(60, 64, 67, 0.15);\n",
              "      fill: #174EA6;\n",
              "    }\n",
              "\n",
              "    .colab-df-buttons div {\n",
              "      margin-bottom: 4px;\n",
              "    }\n",
              "\n",
              "    [theme=dark] .colab-df-convert {\n",
              "      background-color: #3B4455;\n",
              "      fill: #D2E3FC;\n",
              "    }\n",
              "\n",
              "    [theme=dark] .colab-df-convert:hover {\n",
              "      background-color: #434B5C;\n",
              "      box-shadow: 0px 1px 3px 1px rgba(0, 0, 0, 0.15);\n",
              "      filter: drop-shadow(0px 1px 2px rgba(0, 0, 0, 0.3));\n",
              "      fill: #FFFFFF;\n",
              "    }\n",
              "  </style>\n",
              "\n",
              "    <script>\n",
              "      const buttonEl =\n",
              "        document.querySelector('#df-33c75a3b-0de9-4190-aa23-639dac75efa6 button.colab-df-convert');\n",
              "      buttonEl.style.display =\n",
              "        google.colab.kernel.accessAllowed ? 'block' : 'none';\n",
              "\n",
              "      async function convertToInteractive(key) {\n",
              "        const element = document.querySelector('#df-33c75a3b-0de9-4190-aa23-639dac75efa6');\n",
              "        const dataTable =\n",
              "          await google.colab.kernel.invokeFunction('convertToInteractive',\n",
              "                                                    [key], {});\n",
              "        if (!dataTable) return;\n",
              "\n",
              "        const docLinkHtml = 'Like what you see? Visit the ' +\n",
              "          '<a target=\"_blank\" href=https://colab.research.google.com/notebooks/data_table.ipynb>data table notebook</a>'\n",
              "          + ' to learn more about interactive tables.';\n",
              "        element.innerHTML = '';\n",
              "        dataTable['output_type'] = 'display_data';\n",
              "        await google.colab.output.renderOutput(dataTable, element);\n",
              "        const docLink = document.createElement('div');\n",
              "        docLink.innerHTML = docLinkHtml;\n",
              "        element.appendChild(docLink);\n",
              "      }\n",
              "    </script>\n",
              "  </div>\n",
              "\n",
              "\n",
              "    <div id=\"df-d4fe5bb7-bea2-49f3-859f-c9272aa2b76d\">\n",
              "      <button class=\"colab-df-quickchart\" onclick=\"quickchart('df-d4fe5bb7-bea2-49f3-859f-c9272aa2b76d')\"\n",
              "                title=\"Suggest charts\"\n",
              "                style=\"display:none;\">\n",
              "\n",
              "<svg xmlns=\"http://www.w3.org/2000/svg\" height=\"24px\"viewBox=\"0 0 24 24\"\n",
              "     width=\"24px\">\n",
              "    <g>\n",
              "        <path d=\"M19 3H5c-1.1 0-2 .9-2 2v14c0 1.1.9 2 2 2h14c1.1 0 2-.9 2-2V5c0-1.1-.9-2-2-2zM9 17H7v-7h2v7zm4 0h-2V7h2v10zm4 0h-2v-4h2v4z\"/>\n",
              "    </g>\n",
              "</svg>\n",
              "      </button>\n",
              "\n",
              "<style>\n",
              "  .colab-df-quickchart {\n",
              "      --bg-color: #E8F0FE;\n",
              "      --fill-color: #1967D2;\n",
              "      --hover-bg-color: #E2EBFA;\n",
              "      --hover-fill-color: #174EA6;\n",
              "      --disabled-fill-color: #AAA;\n",
              "      --disabled-bg-color: #DDD;\n",
              "  }\n",
              "\n",
              "  [theme=dark] .colab-df-quickchart {\n",
              "      --bg-color: #3B4455;\n",
              "      --fill-color: #D2E3FC;\n",
              "      --hover-bg-color: #434B5C;\n",
              "      --hover-fill-color: #FFFFFF;\n",
              "      --disabled-bg-color: #3B4455;\n",
              "      --disabled-fill-color: #666;\n",
              "  }\n",
              "\n",
              "  .colab-df-quickchart {\n",
              "    background-color: var(--bg-color);\n",
              "    border: none;\n",
              "    border-radius: 50%;\n",
              "    cursor: pointer;\n",
              "    display: none;\n",
              "    fill: var(--fill-color);\n",
              "    height: 32px;\n",
              "    padding: 0;\n",
              "    width: 32px;\n",
              "  }\n",
              "\n",
              "  .colab-df-quickchart:hover {\n",
              "    background-color: var(--hover-bg-color);\n",
              "    box-shadow: 0 1px 2px rgba(60, 64, 67, 0.3), 0 1px 3px 1px rgba(60, 64, 67, 0.15);\n",
              "    fill: var(--button-hover-fill-color);\n",
              "  }\n",
              "\n",
              "  .colab-df-quickchart-complete:disabled,\n",
              "  .colab-df-quickchart-complete:disabled:hover {\n",
              "    background-color: var(--disabled-bg-color);\n",
              "    fill: var(--disabled-fill-color);\n",
              "    box-shadow: none;\n",
              "  }\n",
              "\n",
              "  .colab-df-spinner {\n",
              "    border: 2px solid var(--fill-color);\n",
              "    border-color: transparent;\n",
              "    border-bottom-color: var(--fill-color);\n",
              "    animation:\n",
              "      spin 1s steps(1) infinite;\n",
              "  }\n",
              "\n",
              "  @keyframes spin {\n",
              "    0% {\n",
              "      border-color: transparent;\n",
              "      border-bottom-color: var(--fill-color);\n",
              "      border-left-color: var(--fill-color);\n",
              "    }\n",
              "    20% {\n",
              "      border-color: transparent;\n",
              "      border-left-color: var(--fill-color);\n",
              "      border-top-color: var(--fill-color);\n",
              "    }\n",
              "    30% {\n",
              "      border-color: transparent;\n",
              "      border-left-color: var(--fill-color);\n",
              "      border-top-color: var(--fill-color);\n",
              "      border-right-color: var(--fill-color);\n",
              "    }\n",
              "    40% {\n",
              "      border-color: transparent;\n",
              "      border-right-color: var(--fill-color);\n",
              "      border-top-color: var(--fill-color);\n",
              "    }\n",
              "    60% {\n",
              "      border-color: transparent;\n",
              "      border-right-color: var(--fill-color);\n",
              "    }\n",
              "    80% {\n",
              "      border-color: transparent;\n",
              "      border-right-color: var(--fill-color);\n",
              "      border-bottom-color: var(--fill-color);\n",
              "    }\n",
              "    90% {\n",
              "      border-color: transparent;\n",
              "      border-bottom-color: var(--fill-color);\n",
              "    }\n",
              "  }\n",
              "</style>\n",
              "\n",
              "      <script>\n",
              "        async function quickchart(key) {\n",
              "          const quickchartButtonEl =\n",
              "            document.querySelector('#' + key + ' button');\n",
              "          quickchartButtonEl.disabled = true;  // To prevent multiple clicks.\n",
              "          quickchartButtonEl.classList.add('colab-df-spinner');\n",
              "          try {\n",
              "            const charts = await google.colab.kernel.invokeFunction(\n",
              "                'suggestCharts', [key], {});\n",
              "          } catch (error) {\n",
              "            console.error('Error during call to suggestCharts:', error);\n",
              "          }\n",
              "          quickchartButtonEl.classList.remove('colab-df-spinner');\n",
              "          quickchartButtonEl.classList.add('colab-df-quickchart-complete');\n",
              "        }\n",
              "        (() => {\n",
              "          let quickchartButtonEl =\n",
              "            document.querySelector('#df-d4fe5bb7-bea2-49f3-859f-c9272aa2b76d button');\n",
              "          quickchartButtonEl.style.display =\n",
              "            google.colab.kernel.accessAllowed ? 'block' : 'none';\n",
              "        })();\n",
              "      </script>\n",
              "    </div>\n",
              "\n",
              "    </div>\n",
              "  </div>\n"
            ],
            "application/vnd.google.colaboratory.intrinsic+json": {
              "type": "dataframe",
              "variable_name": "df"
            }
          },
          "metadata": {},
          "execution_count": 3
        }
      ]
    },
    {
      "cell_type": "code",
      "source": [
        "df.shape"
      ],
      "metadata": {
        "id": "ARWjmib9k-_d",
        "colab": {
          "base_uri": "https://localhost:8080/"
        },
        "outputId": "e5752bc3-2bd7-433e-df29-c26b201df3c1"
      },
      "execution_count": null,
      "outputs": [
        {
          "output_type": "execute_result",
          "data": {
            "text/plain": [
              "(60000, 785)"
            ]
          },
          "metadata": {},
          "execution_count": 4
        }
      ]
    },
    {
      "cell_type": "code",
      "source": [
        "#create a 4*4 grid of images\n",
        "fig, axes = plt.subplots(4 , 4 , figsize=(10 , 10))\n",
        "fig.suptitle(\"first 16 /images\" , fontsize=16)\n",
        "\n",
        "#plot the first 16 image from the dataset\n",
        "for i , ax in enumerate(axes.flat):\n",
        "    img = df.iloc[i , 1:].values.reshape(28 , 28) #Reshape to 28*28\n",
        "    ax.imshow(img)# display in grayscale\n",
        "    ax.axis('off') # Remove axis for a clear look\n",
        "    ax.set_title(f\"Label: {df.iloc[i , 0]}\") #show the label\n",
        "\n",
        "plt.tight_layout(rect = [0,0,1,0.96])\n",
        "plt.show()"
      ],
      "metadata": {
        "id": "uqhRPRm_lB1s",
        "colab": {
          "base_uri": "https://localhost:8080/",
          "height": 671
        },
        "outputId": "8f80bfa8-e316-4bf7-ba71-64c69aad3936"
      },
      "execution_count": null,
      "outputs": [
        {
          "output_type": "display_data",
          "data": {
            "text/plain": [
              "<Figure size 1000x1000 with 16 Axes>"
            ],
            "image/png": "[encoded data removed]"
          },
          "metadata": {}
        }
      ]
    },
    {
      "cell_type": "code",
      "source": [
        "# train test split\n",
        "df = df.dropna()\n",
        "X = df.iloc[:, 1:].values\n",
        "y = df.iloc[:, 0].values\n",
        "\n",
        "X_train, X_test, y_train, y_test = train_test_split(X, y, test_size=0.2, random_state=42)"
      ],
      "metadata": {
        "id": "Ef0kfdiElKAy"
      },
      "execution_count": null,
      "outputs": []
    },
    {
      "cell_type": "code",
      "source": [
        "#scaling the feature\n",
        "x_train = X_train / 255.0\n",
        "x_test = X_test / 255.0"
      ],
      "metadata": {
        "id": "EBw79D70lK3c"
      },
      "execution_count": null,
      "outputs": []
    },
    {
      "cell_type": "code",
      "source": [
        "#crete custom dataset class\n",
        "class CustomDataset(Dataset):\n",
        "  def __init__(self , features , labels):\n",
        "    self.features =torch.tensor(features , dtype=torch.float32).reshape(-1,1,28,28)\n",
        "    self.labels = torch.tensor(labels , dtype=torch.long)\n",
        "\n",
        "  def __len__(self):\n",
        "    return len(self.features)\n",
        "\n",
        "  def __getitem__(self , idx):\n",
        "    return self.features[idx] , self.labels[idx]"
      ],
      "metadata": {
        "id": "xnmj4u9wlM_s"
      },
      "execution_count": null,
      "outputs": []
    },
    {
      "cell_type": "code",
      "source": [
        "#create train dataset object\n",
        "train_dataset = CustomDataset(x_train , y_train)"
      ],
      "metadata": {
        "id": "yOYkc8FclyH2"
      },
      "execution_count": null,
      "outputs": []
    },
    {
      "cell_type": "code",
      "source": [
        "len(train_dataset)"
      ],
      "metadata": {
        "id": "6Jpeu8Y7lypn",
        "colab": {
          "base_uri": "https://localhost:8080/"
        },
        "outputId": "144e7045-17d4-4b94-eb6d-c3b66b0947b8"
      },
      "execution_count": null,
      "outputs": [
        {
          "output_type": "execute_result",
          "data": {
            "text/plain": [
              "48000"
            ]
          },
          "metadata": {},
          "execution_count": 10
        }
      ]
    },
    {
      "cell_type": "code",
      "source": [
        "#create test_dataset  object\n",
        "test_dataset = CustomDataset(x_test , y_test)"
      ],
      "metadata": {
        "id": "onu-MuJ_l0by"
      },
      "execution_count": null,
      "outputs": []
    },
    {
      "cell_type": "code",
      "source": [
        "len(test_dataset)"
      ],
      "metadata": {
        "id": "ati_e_BAl2yQ",
        "colab": {
          "base_uri": "https://localhost:8080/"
        },
        "outputId": "66556202-4672-49ac-c4fd-9419ba82b16e"
      },
      "execution_count": null,
      "outputs": [
        {
          "output_type": "execute_result",
          "data": {
            "text/plain": [
              "12000"
            ]
          },
          "metadata": {},
          "execution_count": 12
        }
      ]
    },
    {
      "cell_type": "code",
      "source": [
        "  #create train and test loader\n",
        "  train_loader = DataLoader(train_dataset , batch_size=32 , shuffle=True)\n",
        "  test_loader = DataLoader(test_dataset , batch_size=32, shuffle=False)\n"
      ],
      "metadata": {
        "id": "QH_WqXuql460"
      },
      "execution_count": null,
      "outputs": []
    },
    {
      "cell_type": "code",
      "source": [
        "#define  NN class\n",
        "\n",
        "class MyNN(nn.Module):\n",
        "  def __init__(self , input_features):\n",
        "    super().__init__()\n",
        "    self.model = nn.Sequential(\n",
        "        nn.Conv2d(input_features , 32 , kernel_size=3 ,  padding='same'),\n",
        "        nn.ReLU(),\n",
        "        nn.BatchNorm2d(32),\n",
        "        nn.MaxPool2d(kernel_size=2 , stride=2 ),\n",
        "\n",
        "        nn.Conv2d(32 , 64 , kernel_size=3 ,  padding='same'),\n",
        "        nn.ReLU(),\n",
        "        nn.BatchNorm2d(64),\n",
        "        nn.MaxPool2d(kernel_size=2 , stride=2 )\n",
        "    )\n",
        "\n",
        "    self.classifier  = nn.Sequential(\n",
        "        nn.Flatten(),\n",
        "        nn.Linear(64*7*7 , 128),\n",
        "        nn.ReLU(),\n",
        "        nn.Dropout(p=0.4),\n",
        "        nn.Linear(128 , 64),\n",
        "        nn.ReLU(),\n",
        "        nn.Dropout(p=0.4),\n",
        "        nn.Linear(64 , 10)\n",
        "\n",
        "\n",
        "\n",
        "    )\n",
        "\n",
        "\n",
        "\n",
        "  def forward(self , x):\n",
        "    x = self.model(x)\n",
        "    x = self.classifier(x)\n",
        "\n",
        "    return x"
      ],
      "metadata": {
        "id": "wuwGdGEPmNTo"
      },
      "execution_count": null,
      "outputs": []
    },
    {
      "cell_type": "code",
      "source": [
        "learning_rate = 0.01\n",
        "num_epochs = 100"
      ],
      "metadata": {
        "id": "7tUgAYptYnqt"
      },
      "execution_count": null,
      "outputs": []
    },
    {
      "cell_type": "code",
      "source": [
        "# Set device\n",
        "device = torch.device(\"cuda\" if torch.cuda.is_available() else \"cpu\")\n",
        "model.to(device)"
      ],
      "metadata": {
        "colab": {
          "base_uri": "https://localhost:8080/"
        },
        "id": "QGFxOyNMobqN",
        "outputId": "5ee002e8-51be-4e67-a7db-63f3b8b16364"
      },
      "execution_count": null,
      "outputs": [
        {
          "output_type": "execute_result",
          "data": {
            "text/plain": [
              "MyNN(\n",
              "  (model): Sequential(\n",
              "    (0): Conv2d(1, 32, kernel_size=(3, 3), stride=(1, 1), padding=same)\n",
              "    (1): ReLU()\n",
              "    (2): BatchNorm2d(32, eps=1e-05, momentum=0.1, affine=True, track_running_stats=True)\n",
              "    (3): MaxPool2d(kernel_size=2, stride=2, padding=0, dilation=1, ceil_mode=False)\n",
              "    (4): Conv2d(32, 64, kernel_size=(3, 3), stride=(1, 1), padding=same)\n",
              "    (5): ReLU()\n",
              "    (6): BatchNorm2d(64, eps=1e-05, momentum=0.1, affine=True, track_running_stats=True)\n",
              "    (7): MaxPool2d(kernel_size=2, stride=2, padding=0, dilation=1, ceil_mode=False)\n",
              "  )\n",
              "  (classifier): Sequential(\n",
              "    (0): Flatten(start_dim=1, end_dim=-1)\n",
              "    (1): Linear(in_features=3136, out_features=128, bias=True)\n",
              "    (2): ReLU()\n",
              "    (3): Dropout(p=0.4, inplace=False)\n",
              "    (4): Linear(in_features=128, out_features=64, bias=True)\n",
              "    (5): ReLU()\n",
              "    (6): Dropout(p=0.4, inplace=False)\n",
              "    (7): Linear(in_features=64, out_features=10, bias=True)\n",
              "  )\n",
              ")"
            ]
          },
          "metadata": {},
          "execution_count": 19
        }
      ]
    },
    {
      "cell_type": "code",
      "source": [
        "#initialize the model\n",
        "model = MyNN(1)\n",
        "model = model.to(device)\n",
        "\n",
        "#loss function\n",
        "criterion = nn.CrossEntropyLoss()\n",
        "\n",
        "#optimizer\n",
        "optimizer = optim.SGD(model.parameters() , lr=learning_rate, weight_decay=1e-4)\n",
        "\n"
      ],
      "metadata": {
        "id": "kV2Exzr_ZSMo"
      },
      "execution_count": null,
      "outputs": []
    },
    {
      "cell_type": "code",
      "source": [
        "#training loop\n",
        "\n",
        "\n",
        "for epoch in range(num_epochs):\n",
        "  total_epoch_loss = 0\n",
        "  for batch_features , batch_labels in train_loader:\n",
        "\n",
        "    #move data on gpu\n",
        "\n",
        "    batch_features , batch_labels = batch_features.to(device),batch_labels.to(device)\n",
        "\n",
        "    #forward pass\n",
        "    output = model(batch_features)\n",
        "\n",
        "    #calculate loss\n",
        "    loss = criterion(output , batch_labels)\n",
        "\n",
        "    #backward pass\n",
        "    optimizer.zero_grad()\n",
        "    loss.backward()\n",
        "\n",
        "    #update weights\n",
        "    optimizer.step()\n",
        "\n",
        "    total_epoch_loss = total_epoch_loss + loss.item()\n",
        "  avg_loss = total_epoch_loss/len(train_loader)\n",
        "  print(f\"Epoch {epoch+1}/{num_epochs} , Loss : {avg_loss}\")"
      ],
      "metadata": {
        "id": "m7O4r4qSZz2j",
        "colab": {
          "base_uri": "https://localhost:8080/"
        },
        "outputId": "c310951d-4287-4c22-fa0a-2e9140959fbc"
      },
      "execution_count": null,
      "outputs": [
        {
          "output_type": "stream",
          "name": "stdout",
          "text": [
            "Epoch 1/100 , Loss : 0.6495122952858607\n",
            "Epoch 2/100 , Loss : 0.3853309570203225\n",
            "Epoch 3/100 , Loss : 0.3274308755248785\n",
            "Epoch 4/100 , Loss : 0.29030216387907665\n",
            "Epoch 5/100 , Loss : 0.2650147677063942\n",
            "Epoch 6/100 , Loss : 0.2440155422737201\n",
            "Epoch 7/100 , Loss : 0.22823898364106815\n",
            "Epoch 8/100 , Loss : 0.21262603465716043\n",
            "Epoch 9/100 , Loss : 0.20076766502857207\n",
            "Epoch 10/100 , Loss : 0.19032157282903792\n",
            "Epoch 11/100 , Loss : 0.17513428758302083\n",
            "Epoch 12/100 , Loss : 0.1703332967373232\n",
            "Epoch 13/100 , Loss : 0.15949847429183622\n",
            "Epoch 14/100 , Loss : 0.14778381546338398\n",
            "Epoch 15/100 , Loss : 0.14269363472859065\n",
            "Epoch 16/100 , Loss : 0.13606288641411812\n",
            "Epoch 17/100 , Loss : 0.12828709872222194\n",
            "Epoch 18/100 , Loss : 0.11973193809064105\n",
            "Epoch 19/100 , Loss : 0.11414700921376546\n",
            "Epoch 20/100 , Loss : 0.11043600081776579\n",
            "Epoch 21/100 , Loss : 0.10289166737875591\n",
            "Epoch 22/100 , Loss : 0.10174861383872727\n",
            "Epoch 23/100 , Loss : 0.09566592144748817\n",
            "Epoch 24/100 , Loss : 0.0913070400710373\n",
            "Epoch 25/100 , Loss : 0.08911797445923245\n",
            "Epoch 26/100 , Loss : 0.08305662846328535\n",
            "Epoch 27/100 , Loss : 0.0794052012116493\n",
            "Epoch 28/100 , Loss : 0.07482452576273742\n",
            "Epoch 29/100 , Loss : 0.075488000043241\n",
            "Epoch 30/100 , Loss : 0.07140675514936447\n",
            "Epoch 31/100 , Loss : 0.06742182397260331\n",
            "Epoch 32/100 , Loss : 0.06350388116082953\n",
            "Epoch 33/100 , Loss : 0.0643773029781878\n",
            "Epoch 34/100 , Loss : 0.05995378270888856\n",
            "Epoch 35/100 , Loss : 0.0535439086658104\n",
            "Epoch 36/100 , Loss : 0.0552231517106023\n",
            "Epoch 37/100 , Loss : 0.05532853781699669\n",
            "Epoch 38/100 , Loss : 0.05365365823234121\n",
            "Epoch 39/100 , Loss : 0.048266494106850584\n",
            "Epoch 40/100 , Loss : 0.04973344468281842\n",
            "Epoch 41/100 , Loss : 0.04552095690293451\n",
            "Epoch 42/100 , Loss : 0.047444161106366664\n",
            "Epoch 43/100 , Loss : 0.041552175916440316\n",
            "Epoch 44/100 , Loss : 0.04298812321234315\n",
            "Epoch 45/100 , Loss : 0.041853485458343734\n",
            "Epoch 46/100 , Loss : 0.03965825182460079\n",
            "Epoch 47/100 , Loss : 0.04018691438493018\n",
            "Epoch 48/100 , Loss : 0.03958964079182867\n",
            "Epoch 49/100 , Loss : 0.036797358434807394\n",
            "Epoch 50/100 , Loss : 0.03772424830348124\n",
            "Epoch 51/100 , Loss : 0.03527305439723083\n",
            "Epoch 52/100 , Loss : 0.03533236131580634\n",
            "Epoch 53/100 , Loss : 0.03593605894715923\n",
            "Epoch 54/100 , Loss : 0.03526415097013038\n",
            "Epoch 55/100 , Loss : 0.0322220647551294\n",
            "Epoch 56/100 , Loss : 0.0313374046451548\n",
            "Epoch 57/100 , Loss : 0.03123672784663116\n",
            "Epoch 58/100 , Loss : 0.030947998081246625\n",
            "Epoch 59/100 , Loss : 0.02982325617859897\n",
            "Epoch 60/100 , Loss : 0.029317409214461805\n",
            "Epoch 61/100 , Loss : 0.024977064108855605\n",
            "Epoch 62/100 , Loss : 0.030818700103838637\n",
            "Epoch 63/100 , Loss : 0.024904919768344067\n",
            "Epoch 64/100 , Loss : 0.02548766640167499\n",
            "Epoch 65/100 , Loss : 0.028580158692920424\n",
            "Epoch 66/100 , Loss : 0.027159073473459406\n",
            "Epoch 67/100 , Loss : 0.024992040609790517\n",
            "Epoch 68/100 , Loss : 0.026815343910744558\n",
            "Epoch 69/100 , Loss : 0.02385168568100562\n",
            "Epoch 70/100 , Loss : 0.023817316414368784\n",
            "Epoch 71/100 , Loss : 0.023160964959907687\n",
            "Epoch 72/100 , Loss : 0.028247697547956703\n",
            "Epoch 73/100 , Loss : 0.024062668441702045\n",
            "Epoch 74/100 , Loss : 0.021525539127541075\n",
            "Epoch 75/100 , Loss : 0.024024770574093055\n",
            "Epoch 76/100 , Loss : 0.023205841642852647\n",
            "Epoch 77/100 , Loss : 0.02217534311858132\n",
            "Epoch 78/100 , Loss : 0.020676249856514915\n",
            "Epoch 79/100 , Loss : 0.01852358633979778\n",
            "Epoch 80/100 , Loss : 0.02028429838957224\n",
            "Epoch 81/100 , Loss : 0.02091502350955246\n",
            "Epoch 82/100 , Loss : 0.022255141877369777\n",
            "Epoch 83/100 , Loss : 0.020475803791886696\n",
            "Epoch 84/100 , Loss : 0.018959026732303756\n",
            "Epoch 85/100 , Loss : 0.01813392871473176\n",
            "Epoch 86/100 , Loss : 0.020490553255858687\n",
            "Epoch 87/100 , Loss : 0.016144985218146758\n",
            "Epoch 88/100 , Loss : 0.022053120720088373\n",
            "Epoch 89/100 , Loss : 0.017251068827727672\n",
            "Epoch 90/100 , Loss : 0.019655338572230296\n",
            "Epoch 91/100 , Loss : 0.01809250444191404\n",
            "Epoch 92/100 , Loss : 0.018518085107560863\n",
            "Epoch 93/100 , Loss : 0.017064867580722422\n",
            "Epoch 94/100 , Loss : 0.015286109101333333\n",
            "Epoch 95/100 , Loss : 0.014907216323303753\n",
            "Epoch 96/100 , Loss : 0.017625549141819647\n",
            "Epoch 97/100 , Loss : 0.01743779750971521\n",
            "Epoch 98/100 , Loss : 0.01570169504804979\n",
            "Epoch 99/100 , Loss : 0.018375716410528792\n",
            "Epoch 100/100 , Loss : 0.014344618950687012\n"
          ]
        }
      ]
    },
    {
      "cell_type": "code",
      "source": [
        "#set model to eval mode\n",
        "\n",
        "model.eval()"
      ],
      "metadata": {
        "id": "3x8nDtqrakT6",
        "colab": {
          "base_uri": "https://localhost:8080/"
        },
        "outputId": "4a155cfa-7cf5-476b-da75-08c7aa50197d"
      },
      "execution_count": null,
      "outputs": [
        {
          "output_type": "execute_result",
          "data": {
            "text/plain": [
              "MyNN(\n",
              "  (model): Sequential(\n",
              "    (0): Conv2d(1, 32, kernel_size=(3, 3), stride=(1, 1), padding=same)\n",
              "    (1): ReLU()\n",
              "    (2): BatchNorm2d(32, eps=1e-05, momentum=0.1, affine=True, track_running_stats=True)\n",
              "    (3): MaxPool2d(kernel_size=2, stride=2, padding=0, dilation=1, ceil_mode=False)\n",
              "    (4): Conv2d(32, 64, kernel_size=(3, 3), stride=(1, 1), padding=same)\n",
              "    (5): ReLU()\n",
              "    (6): BatchNorm2d(64, eps=1e-05, momentum=0.1, affine=True, track_running_stats=True)\n",
              "    (7): MaxPool2d(kernel_size=2, stride=2, padding=0, dilation=1, ceil_mode=False)\n",
              "  )\n",
              "  (classifier): Sequential(\n",
              "    (0): Flatten(start_dim=1, end_dim=-1)\n",
              "    (1): Linear(in_features=3136, out_features=128, bias=True)\n",
              "    (2): ReLU()\n",
              "    (3): Dropout(p=0.4, inplace=False)\n",
              "    (4): Linear(in_features=128, out_features=64, bias=True)\n",
              "    (5): ReLU()\n",
              "    (6): Dropout(p=0.4, inplace=False)\n",
              "    (7): Linear(in_features=64, out_features=10, bias=True)\n",
              "  )\n",
              ")"
            ]
          },
          "metadata": {},
          "execution_count": 22
        }
      ]
    },
    {
      "cell_type": "code",
      "source": [
        "#evaluation code\n",
        "\n",
        "total =0\n",
        "correct = 0\n",
        "\n",
        "with torch.no_grad():\n",
        "  for batch_features , batch_labels in test_loader:\n",
        "\n",
        "     #move data on gpu\n",
        "\n",
        "    batch_features , batch_labels = batch_features.to(device),batch_labels.to(device)\n",
        "\n",
        "\n",
        "    output = model(batch_features)\n",
        "\n",
        "    _,predicted = torch.max(output.data , 1)\n",
        "\n",
        "    total += batch_labels.shape[0]\n",
        "    correct += (predicted == batch_labels).sum().item()\n",
        "print(correct/total)"
      ],
      "metadata": {
        "id": "6U2d15MValLm",
        "colab": {
          "base_uri": "https://localhost:8080/"
        },
        "outputId": "7b48099d-5a85-447e-ddca-5d64aee74b93"
      },
      "execution_count": null,
      "outputs": [
        {
          "output_type": "stream",
          "name": "stdout",
          "text": [
            "0.9248333333333333\n"
          ]
        }
      ]
    }
  ]
}
