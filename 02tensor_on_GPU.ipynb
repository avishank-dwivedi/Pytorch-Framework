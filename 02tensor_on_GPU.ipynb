{
  "nbformat": 4,
  "nbformat_minor": 0,
  "metadata": {
    "colab": {
      "provenance": [],
      "gpuType": "T4",
      "authorship_tag": "ABX9TyM7bdvN5jMOm1wrWcyAmBwq",
      "include_colab_link": true
    },
    "kernelspec": {
      "name": "python3",
      "display_name": "Python 3"
    },
    "language_info": {
      "name": "python"
    },
    "accelerator": "GPU"
  },
  "cells": [
    {
      "cell_type": "markdown",
      "metadata": {
        "id": "view-in-github",
        "colab_type": "text"
      },
      "source": [
        "<a href=\"https://colab.research.google.com/github/avishank-dwivedi/Pytorch-Framework/blob/main/02tensor_on_GPU.ipynb\" target=\"_parent\"><img src=\"https://colab.research.google.com/assets/colab-badge.svg\" alt=\"Open In Colab\"/></a>"
      ]
    },
    {
      "cell_type": "markdown",
      "source": [
        "Tensor Operation o Gpu"
      ],
      "metadata": {
        "id": "wKUYMMXowU1g"
      }
    },
    {
      "cell_type": "code",
      "source": [
        "import torch"
      ],
      "metadata": {
        "id": "-H-I1MNewiE5"
      },
      "execution_count": null,
      "outputs": []
    },
    {
      "cell_type": "code",
      "source": [
        "torch.cuda.is_available()"
      ],
      "metadata": {
        "colab": {
          "base_uri": "https://localhost:8080/"
        },
        "id": "cpXe2Z-iwZ0m",
        "outputId": "7afbc46b-a528-4e51-a864-52c668c7c678"
      },
      "execution_count": null,
      "outputs": [
        {
          "output_type": "execute_result",
          "data": {
            "text/plain": [
              "True"
            ]
          },
          "metadata": {},
          "execution_count": 3
        }
      ]
    },
    {
      "cell_type": "code",
      "source": [
        "if torch.cuda.is_available():\n",
        "    print(\"GPU is available\")\n",
        "    print(f\"using  GPU{torch.cuda.get_device_name(0)}\")\n",
        "else:\n",
        "    print(\"GPU is not available\")"
      ],
      "metadata": {
        "colab": {
          "base_uri": "https://localhost:8080/"
        },
        "id": "nqjldaGbwcLz",
        "outputId": "1a54bd6f-b97a-4762-f1d7-74f2766f2bb4"
      },
      "execution_count": null,
      "outputs": [
        {
          "output_type": "stream",
          "name": "stdout",
          "text": [
            "GPU is available\n",
            "using  GPUTesla T4\n"
          ]
        }
      ]
    },
    {
      "cell_type": "code",
      "source": [
        "device = torch.device('cuda')"
      ],
      "metadata": {
        "id": "N2ebxJUOw1gA"
      },
      "execution_count": null,
      "outputs": []
    },
    {
      "cell_type": "code",
      "source": [
        "#create in new tensor on gpu\n",
        "torch.rand((2,3), device= device)"
      ],
      "metadata": {
        "colab": {
          "base_uri": "https://localhost:8080/"
        },
        "id": "7SGIWGLFw595",
        "outputId": "5a0e24f0-fe99-4235-f044-ca1950029811"
      },
      "execution_count": null,
      "outputs": [
        {
          "output_type": "execute_result",
          "data": {
            "text/plain": [
              "tensor([[0.2648, 0.1482, 0.2457],\n",
              "        [0.9554, 0.7309, 0.4560]], device='cuda:0')"
            ]
          },
          "metadata": {},
          "execution_count": 6
        }
      ]
    },
    {
      "cell_type": "code",
      "source": [
        "#moving an existing tensor gpu\n",
        "a = torch.rand((2,3))\n",
        "a.to(device)"
      ],
      "metadata": {
        "colab": {
          "base_uri": "https://localhost:8080/"
        },
        "id": "8AX_xpWRx1nJ",
        "outputId": "467d220e-5972-47d3-f193-d19e500ce227"
      },
      "execution_count": null,
      "outputs": [
        {
          "output_type": "execute_result",
          "data": {
            "text/plain": [
              "tensor([[0.3486, 0.0324, 0.1243],\n",
              "        [0.3271, 0.2685, 0.0842]], device='cuda:0')"
            ]
          },
          "metadata": {},
          "execution_count": 8
        }
      ]
    },
    {
      "cell_type": "code",
      "source": [
        "import time\n",
        "\n",
        "# Define matrix size\n",
        "size = 1000\n",
        "\n",
        "# Create random tensors on CPU\n",
        "cpu_tensor1 = torch.randn(size, size)\n",
        "cpu_tensor2 = torch.randn(size, size)\n",
        "\n",
        "# Perform matrix multiplication on CPU and measure time\n",
        "start_time = time.time()\n",
        "cpu_result = torch.matmul(cpu_tensor1, cpu_tensor2)\n",
        "cpu_time = time.time() - start_time\n",
        "print(f\"Time taken on CPU: {cpu_time:.4f} seconds\")\n",
        "\n",
        "if torch.cuda.is_available():\n",
        "    # Create random tensors on GPU\n",
        "    gpu_tensor1 = torch.randn(size, size, device=device)\n",
        "    gpu_tensor2 = torch.randn(size, size, device=device)\n",
        "\n",
        "    # Perform matrix multiplication on GPU and measure time\n",
        "    start_time = time.time()\n",
        "    gpu_result = torch.matmul(gpu_tensor1, gpu_tensor2)\n",
        "    # Wait for GPU operations to complete\n",
        "    torch.cuda.synchronize()\n",
        "    gpu_time = time.time() - start_time\n",
        "    print(f\"Time taken on GPU: {gpu_time:.4f} seconds\")\n",
        "else:\n",
        "    print(\"GPU not available for comparison.\")"
      ],
      "metadata": {
        "colab": {
          "base_uri": "https://localhost:8080/"
        },
        "id": "rkC4D87ayoQx",
        "outputId": "0f9f3ec7-869a-4aa2-ad4a-dcb5086e5fe1"
      },
      "execution_count": null,
      "outputs": [
        {
          "output_type": "stream",
          "name": "stdout",
          "text": [
            "Time taken on CPU: 0.0173 seconds\n",
            "Time taken on GPU: 0.0009 seconds\n"
          ]
        }
      ]
    },
    {
      "cell_type": "markdown",
      "source": [
        "Reshape tensor"
      ],
      "metadata": {
        "id": "t6Y1SzHtz391"
      }
    },
    {
      "cell_type": "code",
      "source": [
        "a = torch.ones((2,3))\n",
        "a"
      ],
      "metadata": {
        "colab": {
          "base_uri": "https://localhost:8080/"
        },
        "id": "-PIEHVoxz728",
        "outputId": "c34b60ae-023e-4d5e-e41c-5fbdc84b4576"
      },
      "execution_count": null,
      "outputs": [
        {
          "output_type": "execute_result",
          "data": {
            "text/plain": [
              "tensor([[1., 1., 1.],\n",
              "        [1., 1., 1.]])"
            ]
          },
          "metadata": {},
          "execution_count": 13
        }
      ]
    },
    {
      "cell_type": "code",
      "source": [
        "#reshape\n",
        "a.reshape((3,2))"
      ],
      "metadata": {
        "colab": {
          "base_uri": "https://localhost:8080/"
        },
        "id": "qXqu0ufKy5H0",
        "outputId": "2cfa6f4b-5762-409b-f603-f075a9f03c8e"
      },
      "execution_count": null,
      "outputs": [
        {
          "output_type": "execute_result",
          "data": {
            "text/plain": [
              "tensor([[1., 1.],\n",
              "        [1., 1.],\n",
              "        [1., 1.]])"
            ]
          },
          "metadata": {},
          "execution_count": 14
        }
      ]
    },
    {
      "cell_type": "code",
      "source": [
        "#flattin\n",
        "a.flatten()"
      ],
      "metadata": {
        "colab": {
          "base_uri": "https://localhost:8080/"
        },
        "id": "we3z75VP0GJS",
        "outputId": "009bb19b-c123-493d-81d4-a12ca22b949a"
      },
      "execution_count": null,
      "outputs": [
        {
          "output_type": "execute_result",
          "data": {
            "text/plain": [
              "tensor([1., 1., 1., 1., 1., 1.])"
            ]
          },
          "metadata": {},
          "execution_count": 15
        }
      ]
    },
    {
      "cell_type": "code",
      "source": [
        "b = torch.rand((2,3,4))\n",
        "b"
      ],
      "metadata": {
        "colab": {
          "base_uri": "https://localhost:8080/"
        },
        "id": "Iw-qyFw60Nr5",
        "outputId": "d1874c25-9b22-468c-82f5-212b8c3f963d"
      },
      "execution_count": null,
      "outputs": [
        {
          "output_type": "execute_result",
          "data": {
            "text/plain": [
              "tensor([[[0.4094, 0.0616, 0.8171, 0.5073],\n",
              "         [0.8640, 0.3249, 0.0770, 0.0567],\n",
              "         [0.5611, 0.1319, 0.5465, 0.1287]],\n",
              "\n",
              "        [[0.2431, 0.4168, 0.5222, 0.3347],\n",
              "         [0.1135, 0.6158, 0.5896, 0.1203],\n",
              "         [0.4146, 0.7043, 0.6289, 0.5893]]])"
            ]
          },
          "metadata": {},
          "execution_count": 16
        }
      ]
    },
    {
      "cell_type": "code",
      "source": [
        "# permute\n",
        "b.permute((2,0,1))"
      ],
      "metadata": {
        "colab": {
          "base_uri": "https://localhost:8080/"
        },
        "id": "oYHpCDze0TxC",
        "outputId": "7d632e64-4c10-40c0-e21a-f11cad896ba2"
      },
      "execution_count": null,
      "outputs": [
        {
          "output_type": "execute_result",
          "data": {
            "text/plain": [
              "tensor([[[0.4094, 0.8640, 0.5611],\n",
              "         [0.2431, 0.1135, 0.4146]],\n",
              "\n",
              "        [[0.0616, 0.3249, 0.1319],\n",
              "         [0.4168, 0.6158, 0.7043]],\n",
              "\n",
              "        [[0.8171, 0.0770, 0.5465],\n",
              "         [0.5222, 0.5896, 0.6289]],\n",
              "\n",
              "        [[0.5073, 0.0567, 0.1287],\n",
              "         [0.3347, 0.1203, 0.5893]]])"
            ]
          },
          "metadata": {},
          "execution_count": 17
        }
      ]
    },
    {
      "cell_type": "code",
      "source": [
        "# unsqueeze\n",
        "#image size\n",
        "c = torch.rand(226,226,3)\n",
        "c.unsqueeze(0).shape"
      ],
      "metadata": {
        "colab": {
          "base_uri": "https://localhost:8080/"
        },
        "id": "BF5wImX-0asU",
        "outputId": "741bec1c-1aaa-4d0c-aad4-01f64e451c86"
      },
      "execution_count": null,
      "outputs": [
        {
          "output_type": "execute_result",
          "data": {
            "text/plain": [
              "torch.Size([1, 226, 226, 3])"
            ]
          },
          "metadata": {},
          "execution_count": 21
        }
      ]
    },
    {
      "cell_type": "code",
      "source": [
        "#squeesze\n",
        "d = torch.rand(1,20)\n",
        "d.squeeze(0).shape"
      ],
      "metadata": {
        "colab": {
          "base_uri": "https://localhost:8080/"
        },
        "id": "uCxLByEL0u5-",
        "outputId": "d8b7b278-de1c-49c9-a55d-fd8a88ad6336"
      },
      "execution_count": null,
      "outputs": [
        {
          "output_type": "execute_result",
          "data": {
            "text/plain": [
              "torch.Size([20])"
            ]
          },
          "metadata": {},
          "execution_count": 24
        }
      ]
    },
    {
      "cell_type": "code",
      "source": [],
      "metadata": {
        "id": "ZgGVnLL31GSn"
      },
      "execution_count": null,
      "outputs": []
    }
  ]
}